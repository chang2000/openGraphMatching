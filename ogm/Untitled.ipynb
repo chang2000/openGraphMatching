{
 "cells": [
  {
   "cell_type": "code",
   "execution_count": 113,
   "metadata": {},
   "outputs": [
    {
     "name": "stdout",
     "output_type": "stream",
     "text": [
      "The autoreload extension is already loaded. To reload it, use:\n",
      "  %reload_ext autoreload\n"
     ]
    }
   ],
   "source": [
    "# auto reload for python packages\n",
    "%load_ext autoreload\n",
    "%autoreload 2\n",
    "import networkx as nx\n",
    "import matplotlib.pyplot as plt\n",
    "from SubGraphMatcherEnhanced import SubGraphMatcher # The brute force solution"
   ]
  },
  {
   "cell_type": "code",
   "execution_count": 34,
   "metadata": {},
   "outputs": [
    {
     "name": "stdout",
     "output_type": "stream",
     "text": [
      "<module 'networkx' from '/Users/alex/opt/anaconda3/envs/net/lib/python3.8/site-packages/networkx/__init__.py'>\n"
     ]
    }
   ],
   "source": [
    "print(nx)"
   ]
  },
  {
   "cell_type": "code",
   "execution_count": 114,
   "metadata": {},
   "outputs": [],
   "source": [
    "def draw_graph(G):\n",
    "    labels = nx.get_node_attributes(G, 'feat') \n",
    "    options = {\n",
    "        'node_color': 'yellow',\n",
    "        'node_size': 400,\n",
    "        'width': 3,\n",
    "        'labels': labels,\n",
    "        'with_labels': True\n",
    "    }\n",
    "    nx.draw(G, **options)\n",
    "    plt.show()\n",
    "\n",
    "G_t = nx.path_graph(10)\n",
    "G_q = nx.path_graph(2)\n",
    "# draw_graph(G_t)\n",
    "# draw_graph(G_q)"
   ]
  },
  {
   "cell_type": "code",
   "execution_count": 115,
   "metadata": {},
   "outputs": [],
   "source": [
    "# Create a list of queris\n",
    "queries = []\n",
    "for i in range(10):\n",
    "    queries.append(nx.path_graph(i))"
   ]
  },
  {
   "cell_type": "code",
   "execution_count": 126,
   "metadata": {},
   "outputs": [
    {
     "name": "stdout",
     "output_type": "stream",
     "text": [
      "{}\n"
     ]
    },
    {
     "ename": "KeyError",
     "evalue": "0",
     "output_type": "error",
     "traceback": [
      "\u001b[0;31m---------------------------------------------------------------------------\u001b[0m",
      "\u001b[0;31mKeyError\u001b[0m                                  Traceback (most recent call last)",
      "\u001b[0;32m<ipython-input-126-87ccbb627fe1>\u001b[0m in \u001b[0;36m<module>\u001b[0;34m\u001b[0m\n\u001b[1;32m      1\u001b[0m \u001b[0mSGM\u001b[0m \u001b[0;34m=\u001b[0m \u001b[0mSubGraphMatcher\u001b[0m\u001b[0;34m(\u001b[0m\u001b[0mG_t\u001b[0m\u001b[0;34m)\u001b[0m\u001b[0;34m\u001b[0m\u001b[0;34m\u001b[0m\u001b[0m\n\u001b[1;32m      2\u001b[0m \u001b[0;31m# print(SGM.check_match_subgraph(G_q))\u001b[0m\u001b[0;34m\u001b[0m\u001b[0;34m\u001b[0m\u001b[0;34m\u001b[0m\u001b[0m\n\u001b[0;32m----> 3\u001b[0;31m \u001b[0mSGM\u001b[0m\u001b[0;34m.\u001b[0m\u001b[0mLDF\u001b[0m\u001b[0;34m(\u001b[0m\u001b[0mG_q\u001b[0m\u001b[0;34m,\u001b[0m \u001b[0mG_t\u001b[0m\u001b[0;34m)\u001b[0m\u001b[0;34m\u001b[0m\u001b[0;34m\u001b[0m\u001b[0m\n\u001b[0m",
      "\u001b[0;32m~/openGraphMatching/ogm/SubGraphMatcherEnhanced.py\u001b[0m in \u001b[0;36mLDF\u001b[0;34m(self, q, G)\u001b[0m\n\u001b[1;32m    125\u001b[0m             \u001b[0;32mfor\u001b[0m \u001b[0mv\u001b[0m \u001b[0;32min\u001b[0m \u001b[0mG\u001b[0m\u001b[0;34m.\u001b[0m\u001b[0mnodes\u001b[0m\u001b[0;34m(\u001b[0m\u001b[0;34m)\u001b[0m\u001b[0;34m:\u001b[0m\u001b[0;34m\u001b[0m\u001b[0;34m\u001b[0m\u001b[0m\n\u001b[1;32m    126\u001b[0m \u001b[0;34m\u001b[0m\u001b[0m\n\u001b[0;32m--> 127\u001b[0;31m                 \u001b[0mprint\u001b[0m\u001b[0;34m(\u001b[0m\u001b[0;34m'q feat'\u001b[0m\u001b[0;34m,\u001b[0m \u001b[0mq_labels\u001b[0m\u001b[0;34m[\u001b[0m\u001b[0mu\u001b[0m\u001b[0;34m]\u001b[0m\u001b[0;34m)\u001b[0m\u001b[0;34m\u001b[0m\u001b[0;34m\u001b[0m\u001b[0m\n\u001b[0m\u001b[1;32m    128\u001b[0m                 \u001b[0mprint\u001b[0m\u001b[0;34m(\u001b[0m\u001b[0;34m'G feat'\u001b[0m\u001b[0;34m,\u001b[0m \u001b[0mG_labels\u001b[0m\u001b[0;34m[\u001b[0m\u001b[0mv\u001b[0m\u001b[0;34m]\u001b[0m\u001b[0;34m)\u001b[0m\u001b[0;34m\u001b[0m\u001b[0;34m\u001b[0m\u001b[0m\n\u001b[1;32m    129\u001b[0m                 \u001b[0;32mif\u001b[0m \u001b[0mG_degree\u001b[0m\u001b[0;34m[\u001b[0m\u001b[0mv\u001b[0m\u001b[0;34m]\u001b[0m \u001b[0;34m>=\u001b[0m \u001b[0mq_degree\u001b[0m\u001b[0;34m[\u001b[0m\u001b[0mu\u001b[0m\u001b[0;34m]\u001b[0m\u001b[0;34m:\u001b[0m\u001b[0;34m\u001b[0m\u001b[0;34m\u001b[0m\u001b[0m\n",
      "\u001b[0;31mKeyError\u001b[0m: 0"
     ]
    }
   ],
   "source": [
    "SGM = SubGraphMatcher(G_t)\n",
    "# print(SGM.check_match_subgraph(G_q))\n",
    "SGM.LDF(G_q, G_t)"
   ]
  },
  {
   "cell_type": "code",
   "execution_count": null,
   "metadata": {},
   "outputs": [],
   "source": []
  },
  {
   "cell_type": "code",
   "execution_count": 76,
   "metadata": {},
   "outputs": [],
   "source": [
    "# Test the node feature part\n",
    "G1 = nx.Graph()\n",
    "G1.add_nodes_from([\n",
    "    (0, {'feat': 'A'}),\n",
    "    (1, {'feat': 'B'}),\n",
    "    (2, {'feat': 'C'}),\n",
    "    (3, {'feat': 'D'}),\n",
    "])\n",
    "G1.add_edges_from([\n",
    "    (0, 1),\n",
    "    (0, 2),\n",
    "    (1, 2),\n",
    "    (1, 3),\n",
    "    (2, 3)])\n",
    "# draw_graph(G1)"
   ]
  },
  {
   "cell_type": "code",
   "execution_count": 77,
   "metadata": {},
   "outputs": [],
   "source": [
    "G2 = nx.Graph()\n",
    "G2.add_nodes_from([\n",
    "    (0, {'feat': 'A'}),\n",
    "    (1, {'feat': 'C'}),\n",
    "    (2, {'feat': 'B'}),\n",
    "    (3, {'feat': 'C'}),\n",
    "    (4, {'feat': 'B'}),\n",
    "    (5, {'feat': 'C'}),\n",
    "    (6, {'feat': 'B'}),\n",
    "    (7, {'feat': 'C'}),\n",
    "    (8, {'feat': 'D'}),\n",
    "    (9, {'feat': 'D'}),\n",
    "    (10, {'feat': 'D'}),\n",
    "    (11, {'feat': 'D'}),\n",
    "    (12, {'feat': 'D'}),\n",
    "    (13, {'feat': 'C'}),\n",
    "    (14, {'feat': 'D'}),\n",
    "])\n",
    "G2.add_edges_from([\n",
    "    (0, 1),\n",
    "    (0, 2),\n",
    "    (0, 3),\n",
    "    (0, 4),\n",
    "    (0, 5),\n",
    "    (0, 6),\n",
    "    (0, 7),\n",
    "    (1, 2),\n",
    "    (1, 8),\n",
    "    (2, 9),\n",
    "    (2, 10),\n",
    "    (3, 4),\n",
    "    (3, 10),\n",
    "    (4, 5),\n",
    "    (4, 10),\n",
    "    (4, 11),\n",
    "    (4, 12),\n",
    "    (5, 12),\n",
    "    (6, 12),\n",
    "    (6, 13),\n",
    "    (7, 14),\n",
    "    (9, 10),\n",
    "])\n",
    "# draw_graph(G2)"
   ]
  },
  {
   "cell_type": "code",
   "execution_count": 78,
   "metadata": {},
   "outputs": [],
   "source": [
    "G_test = nx.Graph()\n",
    "G_test.add_nodes_from([\n",
    "    (0, {'feat': 'A'}),\n",
    "    (2, {'feat': 'B'}),\n",
    "    (1, {'feat': 'C'}),\n",
    "    (3, {'feat': 'D'}),\n",
    "])\n",
    "G_test.add_edges_from([\n",
    "    (0, 2),\n",
    "    (0, 1),\n",
    "    (1, 2),\n",
    "    (2, 3),\n",
    "    (1, 3)])\n",
    "# draw_graph(G_test)"
   ]
  },
  {
   "cell_type": "code",
   "execution_count": 79,
   "metadata": {},
   "outputs": [
    {
     "data": {
      "text/plain": [
       "True"
      ]
     },
     "execution_count": 79,
     "metadata": {},
     "output_type": "execute_result"
    }
   ],
   "source": [
    "# The networkx isomorphism check function works well with \n",
    "nx.is_isomorphic(G_test, G1)"
   ]
  },
  {
   "cell_type": "code",
   "execution_count": 130,
   "metadata": {},
   "outputs": [
    {
     "data": {
      "text/plain": [
       "[(0, 0),\n",
       " (1, 2),\n",
       " (1, 4),\n",
       " (1, 6),\n",
       " (2, 1),\n",
       " (2, 3),\n",
       " (2, 5),\n",
       " (3, 9),\n",
       " (3, 10),\n",
       " (3, 12)]"
      ]
     },
     "execution_count": 130,
     "metadata": {},
     "output_type": "execute_result"
    }
   ],
   "source": [
    "# Validate the subgraph matching with node features\n",
    "SGM = SubGraphMatcher(G2)\n",
    "SGM.LDF(G1, G2)\n",
    "# SGM.check_match_subgraph(G1)\n"
   ]
  },
  {
   "cell_type": "code",
   "execution_count": null,
   "metadata": {},
   "outputs": [],
   "source": [
    "# New Test\n"
   ]
  }
 ],
 "metadata": {
  "kernelspec": {
   "display_name": "Python 3",
   "language": "python",
   "name": "python3"
  },
  "language_info": {
   "codemirror_mode": {
    "name": "ipython",
    "version": 3
   },
   "file_extension": ".py",
   "mimetype": "text/x-python",
   "name": "python",
   "nbconvert_exporter": "python",
   "pygments_lexer": "ipython3",
   "version": "3.8.5"
  }
 },
 "nbformat": 4,
 "nbformat_minor": 4
}

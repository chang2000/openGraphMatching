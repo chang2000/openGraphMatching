{
 "cells": [
  {
   "cell_type": "code",
   "execution_count": 20,
   "metadata": {
    "tags": []
   },
   "outputs": [
    {
     "name": "stdout",
     "output_type": "stream",
     "text": [
      "The autoreload extension is already loaded. To reload it, use:\n",
      "  %reload_ext autoreload\n"
     ]
    }
   ],
   "source": [
    "# auto reload for python packages\n",
    "%load_ext autoreload\n",
    "%autoreload 2\n",
    "import networkx as nx\n",
    "import matplotlib.pyplot as plt\n",
    "from SubGraphMatcher import SubGraphMatcher \n",
    "\n",
    "from GQLMatcher import GQLMatcher"
   ]
  },
  {
   "cell_type": "code",
   "execution_count": 21,
   "metadata": {},
   "outputs": [],
   "source": [
    "def draw_graph(G):\n",
    "    labels = nx.get_node_attributes(G, 'feat') \n",
    "    options = {\n",
    "        'node_color': 'yellow',\n",
    "        'node_size': 400,\n",
    "        'width': 3,\n",
    "        'labels': labels,\n",
    "        'with_labels': True\n",
    "    }\n",
    "    nx.draw(G, **options)\n",
    "    plt.show()\n"
   ]
  },
  {
   "cell_type": "code",
   "execution_count": 22,
   "metadata": {},
   "outputs": [],
   "source": [
    "# Test the node feature part\n",
    "G1 = nx.Graph()\n",
    "G1.add_nodes_from([\n",
    "    (0, {'feat': 'A'}),\n",
    "    (1, {'feat': 'B'}),\n",
    "    (2, {'feat': 'C'}),\n",
    "    (3, {'feat': 'D'}),\n",
    "])\n",
    "G1.add_edges_from([\n",
    "    (0, 1),\n",
    "    (0, 2),\n",
    "    (1, 2),\n",
    "    (1, 3),\n",
    "    (2, 3)])\n",
    "# draw_graph(G1)"
   ]
  },
  {
   "cell_type": "code",
   "execution_count": 23,
   "metadata": {},
   "outputs": [],
   "source": [
    "G2 = nx.Graph()\n",
    "G2.add_nodes_from([\n",
    "    (0, {'feat': 'A'}),\n",
    "    (1, {'feat': 'C'}),\n",
    "    (2, {'feat': 'B'}),\n",
    "    (3, {'feat': 'C'}),\n",
    "    (4, {'feat': 'B'}),\n",
    "    (5, {'feat': 'C'}),\n",
    "    (6, {'feat': 'B'}),\n",
    "    (7, {'feat': 'C'}),\n",
    "    (8, {'feat': 'D'}),\n",
    "    (9, {'feat': 'D'}),\n",
    "    (10, {'feat': 'D'}),\n",
    "    (11, {'feat': 'D'}),\n",
    "    (12, {'feat': 'D'}),\n",
    "    (13, {'feat': 'C'}),\n",
    "    (14, {'feat': 'D'}),\n",
    "])\n",
    "G2.add_edges_from([\n",
    "    (0, 1),\n",
    "    (0, 2),\n",
    "    (0, 3),\n",
    "    (0, 4),\n",
    "    (0, 5),\n",
    "    (0, 6),\n",
    "    (0, 7),\n",
    "    (1, 2),\n",
    "    (1, 8),\n",
    "    (2, 9),\n",
    "    (2, 10),\n",
    "    (3, 4),\n",
    "    (3, 10),\n",
    "    (4, 5),\n",
    "    (4, 10),\n",
    "    (4, 11),\n",
    "    (4, 12),\n",
    "    (5, 12),\n",
    "    (6, 12),\n",
    "    (6, 13),\n",
    "    (7, 14),\n",
    "    (9, 10),\n",
    "])\n",
    "# draw_graph(G2)"
   ]
  },
  {
   "cell_type": "code",
   "execution_count": 24,
   "metadata": {},
   "outputs": [
    {
     "data": {
      "image/png": "[encoded data removed]",
      "text/plain": [
       "<Figure size 432x288 with 1 Axes>"
      ]
     },
     "metadata": {},
     "output_type": "display_data"
    }
   ],
   "source": [
    "draw_graph(G2)"
   ]
  },
  {
   "cell_type": "code",
   "execution_count": null,
   "metadata": {},
   "outputs": [],
   "source": []
  },
  {
   "cell_type": "code",
   "execution_count": 42,
   "metadata": {
    "scrolled": true,
    "tags": []
   },
   "outputs": [
    {
     "data": {
      "text/plain": [
       "{}"
      ]
     },
     "execution_count": 42,
     "metadata": {},
     "output_type": "execute_result"
    }
   ],
   "source": [
    "# Validate the subgraph matching with node features\n",
    "SGM = SubGraphMatcher(G2)\n",
    "SGM.G_labels"
   ]
  },
  {
   "cell_type": "code",
   "execution_count": 43,
   "metadata": {},
   "outputs": [
    {
     "ename": "SyntaxError",
     "evalue": "invalid syntax (<ipython-input-43-bfddd1305983>, line 2)",
     "output_type": "error",
     "traceback": [
      "\u001b[0;36m  File \u001b[0;32m\"<ipython-input-43-bfddd1305983>\"\u001b[0;36m, line \u001b[0;32m2\u001b[0m\n\u001b[0;31m    matchObj.\u001b[0m\n\u001b[0m             ^\u001b[0m\n\u001b[0;31mSyntaxError\u001b[0m\u001b[0;31m:\u001b[0m invalid syntax\n"
     ]
    }
   ],
   "source": [
    "matchObj = GQLMatcher(G2)\n",
    "matchObj."
   ]
  },
  {
   "cell_type": "code",
   "execution_count": 27,
   "metadata": {},
   "outputs": [
    {
     "data": {
      "text/plain": [
       "[]"
      ]
     },
     "execution_count": 27,
     "metadata": {},
     "output_type": "execute_result"
    }
   ],
   "source": [
    "SGM.backward_neighbors(3, [0,1,2,3], G1)"
   ]
  },
  {
   "cell_type": "code",
   "execution_count": null,
   "metadata": {},
   "outputs": [],
   "source": [
    "# Some visualization\n",
    "SGM.draw_multi_results()"
   ]
  }
 ],
 "metadata": {
  "kernelspec": {
   "display_name": "Python 3",
   "language": "python",
   "name": "python3"
  },
  "language_info": {
   "codemirror_mode": {
    "name": "ipython",
    "version": 3
   },
   "file_extension": ".py",
   "mimetype": "text/x-python",
   "name": "python",
   "nbconvert_exporter": "python",
   "pygments_lexer": "ipython3",
   "version": "3.8.5"
  }
 },
 "nbformat": 4,
 "nbformat_minor": 4
}

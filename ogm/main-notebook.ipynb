{
 "cells": [
  {
   "cell_type": "code",
   "execution_count": 7,
   "metadata": {
    "tags": []
   },
   "outputs": [
    {
     "name": "stdout",
     "output_type": "stream",
     "text": [
      "The autoreload extension is already loaded. To reload it, use:\n",
      "  %reload_ext autoreload\n"
     ]
    },
    {
     "name": "stderr",
     "output_type": "stream",
     "text": [
      "[autoreload of SubGraphMatcher failed: Traceback (most recent call last):\n",
      "  File \"/Users/alex/opt/anaconda3/envs/torch/lib/python3.8/site-packages/IPython/extensions/autoreload.py\", line 245, in check\n",
      "    superreload(m, reload, self.old_objects)\n",
      "  File \"/Users/alex/opt/anaconda3/envs/torch/lib/python3.8/site-packages/IPython/extensions/autoreload.py\", line 410, in superreload\n",
      "    update_generic(old_obj, new_obj)\n",
      "  File \"/Users/alex/opt/anaconda3/envs/torch/lib/python3.8/site-packages/IPython/extensions/autoreload.py\", line 347, in update_generic\n",
      "    update(a, b)\n",
      "  File \"/Users/alex/opt/anaconda3/envs/torch/lib/python3.8/site-packages/IPython/extensions/autoreload.py\", line 317, in update_class\n",
      "    update_instances(old, new)\n",
      "  File \"/Users/alex/opt/anaconda3/envs/torch/lib/python3.8/site-packages/IPython/extensions/autoreload.py\", line 280, in update_instances\n",
      "    ref.__class__ = new\n",
      "TypeError: __class__ assignment: 'SubGraphMatcher' object layout differs from 'SubGraphMatcher'\n",
      "]\n"
     ]
    }
   ],
   "source": [
    "# auto reload for python packages\n",
    "%load_ext autoreload\n",
    "%autoreload 2\n",
    "import networkx as nx\n",
    "import matplotlib.pyplot as plt\n",
    "from SubGraphMatcher import SubGraphMatcher "
   ]
  },
  {
   "cell_type": "code",
   "execution_count": 2,
   "metadata": {},
   "outputs": [],
   "source": [
    "def draw_graph(G):\n",
    "    labels = nx.get_node_attributes(G, 'feat') \n",
    "    options = {\n",
    "        'node_color': 'yellow',\n",
    "        'node_size': 400,\n",
    "        'width': 3,\n",
    "        'labels': labels,\n",
    "        'with_labels': True\n",
    "    }\n",
    "    nx.draw(G, **options)\n",
    "    plt.show()\n"
   ]
  },
  {
   "cell_type": "code",
   "execution_count": 3,
   "metadata": {},
   "outputs": [],
   "source": [
    "# Test the node feature part\n",
    "G1 = nx.Graph()\n",
    "G1.add_nodes_from([\n",
    "    (0, {'feat': 'A'}),\n",
    "    (1, {'feat': 'B'}),\n",
    "    (2, {'feat': 'C'}),\n",
    "    (3, {'feat': 'D'}),\n",
    "])\n",
    "G1.add_edges_from([\n",
    "    (0, 1),\n",
    "    (0, 2),\n",
    "    (1, 2),\n",
    "    (1, 3),\n",
    "    (2, 3)])\n",
    "# draw_graph(G1)"
   ]
  },
  {
   "cell_type": "code",
   "execution_count": 4,
   "metadata": {},
   "outputs": [],
   "source": [
    "G2 = nx.Graph()\n",
    "G2.add_nodes_from([\n",
    "    (0, {'feat': 'A'}),\n",
    "    (1, {'feat': 'C'}),\n",
    "    (2, {'feat': 'B'}),\n",
    "    (3, {'feat': 'C'}),\n",
    "    (4, {'feat': 'B'}),\n",
    "    (5, {'feat': 'C'}),\n",
    "    (6, {'feat': 'B'}),\n",
    "    (7, {'feat': 'C'}),\n",
    "    (8, {'feat': 'D'}),\n",
    "    (9, {'feat': 'D'}),\n",
    "    (10, {'feat': 'D'}),\n",
    "    (11, {'feat': 'D'}),\n",
    "    (12, {'feat': 'D'}),\n",
    "    (13, {'feat': 'C'}),\n",
    "    (14, {'feat': 'D'}),\n",
    "])\n",
    "G2.add_edges_from([\n",
    "    (0, 1),\n",
    "    (0, 2),\n",
    "    (0, 3),\n",
    "    (0, 4),\n",
    "    (0, 5),\n",
    "    (0, 6),\n",
    "    (0, 7),\n",
    "    (1, 2),\n",
    "    (1, 8),\n",
    "    (2, 9),\n",
    "    (2, 10),\n",
    "    (3, 4),\n",
    "    (3, 10),\n",
    "    (4, 5),\n",
    "    (4, 10),\n",
    "    (4, 11),\n",
    "    (4, 12),\n",
    "    (5, 12),\n",
    "    (6, 12),\n",
    "    (6, 13),\n",
    "    (7, 14),\n",
    "    (9, 10),\n",
    "])\n",
    "# draw_graph(G2)"
   ]
  },
  {
   "cell_type": "code",
   "execution_count": 5,
   "metadata": {},
   "outputs": [
    {
     "data": {
      "image/png": "[encoded data removed]",
      "text/plain": [
       "<Figure size 432x288 with 1 Axes>"
      ]
     },
     "metadata": {},
     "output_type": "display_data"
    }
   ],
   "source": [
    "draw_graph(G2)"
   ]
  },
  {
   "cell_type": "code",
   "execution_count": null,
   "metadata": {},
   "outputs": [],
   "source": []
  },
  {
   "cell_type": "code",
   "execution_count": 6,
   "metadata": {
    "scrolled": true,
    "tags": []
   },
   "outputs": [
    {
     "name": "stdout",
     "output_type": "stream",
     "text": [
      "Running LDF...\n",
      "--- 8.893013000488281e-05 seconds ---, LDF Done\n",
      "After the filtering, 66.66666666666666% of the nodes left\n",
      "running NLF...\n",
      "--- 0.00026702880859375 seconds ---, NLF Done\n",
      "After the filtering, 60.0% of the nodes left\n",
      "[(0, 0), (1, 2), (1, 4), (1, 6), (2, 1), (2, 3), (2, 5), (3, 10), (3, 12)]\n",
      "Using plain ordering...\n",
      "enumerating...\n",
      "enumeration done, takes 0.00013113021850585938s\n",
      "enumeration runs 10 times\n",
      "--- 0.0009598731994628906 seconds ---, Job done\n",
      "Totally find 2 matches.\n",
      " \n",
      " \n"
     ]
    },
    {
     "data": {
      "text/plain": [
       "[0.6, [{0: 0, 1: 4, 2: 3, 3: 10}, {0: 0, 1: 4, 2: 5, 3: 12}]]"
      ]
     },
     "execution_count": 6,
     "metadata": {},
     "output_type": "execute_result"
    }
   ],
   "source": [
    "# Validate the subgraph matching with node features\n",
    "SGM = SubGraphMatcher(G2)\n",
    "SGM.check_match_subgraph(G1)"
   ]
  },
  {
   "cell_type": "code",
   "execution_count": null,
   "metadata": {},
   "outputs": [],
   "source": []
  },
  {
   "cell_type": "code",
   "execution_count": 27,
   "metadata": {},
   "outputs": [
    {
     "data": {
      "text/plain": [
       "[]"
      ]
     },
     "execution_count": 27,
     "metadata": {},
     "output_type": "execute_result"
    }
   ],
   "source": [
    "SGM.backward_neighbors(3, [0,1,2,3], G1)"
   ]
  },
  {
   "cell_type": "code",
   "execution_count": null,
   "metadata": {},
   "outputs": [],
   "source": [
    "# Some visualization\n",
    "SGM.draw_multi_results()"
   ]
  }
 ],
 "metadata": {
  "kernelspec": {
   "display_name": "Python 3",
   "language": "python",
   "name": "python3"
  },
  "language_info": {
   "codemirror_mode": {
    "name": "ipython",
    "version": 3
   },
   "file_extension": ".py",
   "mimetype": "text/x-python",
   "name": "python",
   "nbconvert_exporter": "python",
   "pygments_lexer": "ipython3",
   "version": "3.8.5"
  }
 },
 "nbformat": 4,
 "nbformat_minor": 4
}

{
 "cells": [
  {
   "cell_type": "code",
   "execution_count": 2,
   "metadata": {},
   "outputs": [],
   "source": [
    "%load_ext autoreload\n",
    "%autoreload 2\n",
    "import networkx as nx\n",
    "import matplotlib.pyplot as plt\n",
    "from SubGraphMatcherEnhanced import SubGraphMatcher \n",
    "from utils.convert_graph import convert_graph\n",
    "import sys #enssential for relative path"
   ]
  },
  {
   "cell_type": "code",
   "execution_count": 20,
   "metadata": {},
   "outputs": [],
   "source": [
    "def draw_graph(G):\n",
    "    labels = nx.get_node_attributes(G, 'feat') \n",
    "    options = {\n",
    "        'node_color': 'yellow',\n",
    "        'node_size': 400,\n",
    "        'width': 3,\n",
    "        'labels': labels,\n",
    "        'with_labels': True\n",
    "    }\n",
    "    nx.draw(G, **options)\n",
    "    plt.show()\n",
    "    \n",
    "def save_draw_graph(G):\n",
    "    labels = nx.get_node_attributes(G, 'feat') \n",
    "    options = {\n",
    "        'node_color': 'yellow',\n",
    "        'node_size': 400,\n",
    "        'width': 3,\n",
    "        'labels': labels,\n",
    "        'with_labels': True\n",
    "    }\n",
    "    nx.draw(G, **options)\n",
    "    plt.savefig(\"graph.png\", dpi=1000)"
   ]
  },
  {
   "cell_type": "code",
   "execution_count": 21,
   "metadata": {},
   "outputs": [
    {
     "name": "stdout",
     "output_type": "stream",
     "text": [
      "True\n"
     ]
    }
   ],
   "source": [
    "G = convert_graph('./dataset/sample_dataset/test_case_1.graph')\n",
    "q1 = convert_graph('./dataset/sample_dataset/query1_positive.graph')\n",
    "q2 = convert_graph('./dataset/sample_dataset/query1_positive.graph')\n",
    "print(nx.is_connected(G))"
   ]
  },
  {
   "cell_type": "code",
   "execution_count": 22,
   "metadata": {},
   "outputs": [
    {
     "name": "stdout",
     "output_type": "stream",
     "text": [
      "--- 7.176399230957031e-05 seconds ---, LDF Done\n",
      "--- 0.00016808509826660156 seconds ---, NLF Done\n",
      "After the filtering, 60.0% of the nodes left\n",
      "--- 5.0067901611328125e-05 seconds ---, Find one match\n",
      "--- 0.0007872581481933594 seconds ---, Job done\n",
      "[{0: 0, 1: 1, 2: 2}]\n"
     ]
    }
   ],
   "source": [
    "# Smoke test\n",
    "SGM = SubGraphMatcher(G)\n",
    "print(SGM.check_match_subgraph(q2))"
   ]
  },
  {
   "cell_type": "code",
   "execution_count": 24,
   "metadata": {},
   "outputs": [
    {
     "name": "stdout",
     "output_type": "stream",
     "text": [
      "False\n"
     ]
    }
   ],
   "source": [
    "G = convert_graph('./dataset/data_graph/HPRD.graph')\n",
    "print(nx.is_connected(G))\n",
    "SGM = SubGraphMatcher(G)"
   ]
  },
  {
   "cell_type": "code",
   "execution_count": 16,
   "metadata": {},
   "outputs": [
    {
     "name": "stdout",
     "output_type": "stream",
     "text": [
      "False\n",
      "--- 0.13630199432373047 seconds ---, LDF Done\n",
      "--- 65.66724300384521 seconds ---, NLF Done\n",
      "--- 5.4836273193359375e-05 seconds ---, Find one match\n",
      "--- 5.0067901611328125e-05 seconds ---, Find one match\n",
      "--- 5.316734313964844e-05 seconds ---, Find one match\n",
      "--- 67.42816829681396 seconds ---, Job done\n",
      "[{0: 72, 1: 166, 2: 304, 3: 421, 4: 1081, 5: 1090, 6: 1144, 7: 1383, 8: 1538, 9: 1754, 10: 1846, 11: 2320, 12: 4399, 13: 4803, 14: 4887, 15: 5904}, {0: 72, 1: 166, 2: 304, 3: 421, 4: 1081, 5: 1331, 6: 162, 7: 1383, 8: 1538, 9: 1754, 10: 725, 11: 2320, 12: 4399, 13: 4803, 14: 4887, 15: 5904}, {0: 72, 1: 166, 2: 304, 3: 421, 4: 1081, 5: 1331, 6: 1144, 7: 1383, 8: 1538, 9: 1754, 10: 725, 11: 2320, 12: 4399, 13: 4803, 14: 4887, 15: 5904}]\n"
     ]
    }
   ],
   "source": [
    "q1 = convert_graph('./dataset/query_graph/query_dense_16_1.graph')\n",
    "print(SGM.check_match_subgraph(q1))"
   ]
  },
  {
   "cell_type": "code",
   "execution_count": 25,
   "metadata": {},
   "outputs": [
    {
     "name": "stdout",
     "output_type": "stream",
     "text": [
      "--- 0.16622495651245117 seconds ---, LDF Done\n",
      "--- 49.057069063186646 seconds ---, NLF Done\n",
      "After the filtering, 1.5856236786469344% of the nodes left\n",
      "--- 0.0001087188720703125 seconds ---, Find one match\n",
      "--- 6.508827209472656e-05 seconds ---, Find one match\n",
      "--- 6.079673767089844e-05 seconds ---, Find one match\n",
      "--- 5.984306335449219e-05 seconds ---, Find one match\n",
      "--- 6.103515625e-05 seconds ---, Find one match\n",
      "--- 6.175041198730469e-05 seconds ---, Find one match\n",
      "--- 5.5789947509765625e-05 seconds ---, Find one match\n",
      "--- 6.461143493652344e-05 seconds ---, Find one match\n",
      "--- 5.698204040527344e-05 seconds ---, Find one match\n",
      "--- 5.698204040527344e-05 seconds ---, Find one match\n",
      "--- 7.295608520507812e-05 seconds ---, Find one match\n",
      "--- 5.602836608886719e-05 seconds ---, Find one match\n",
      "--- 5.507469177246094e-05 seconds ---, Find one match\n",
      "--- 3.1948089599609375e-05 seconds ---, Find one match\n",
      "--- 5.91278076171875e-05 seconds ---, Find one match\n",
      "--- 3.528594970703125e-05 seconds ---, Find one match\n",
      "--- 5.4836273193359375e-05 seconds ---, Find one match\n",
      "--- 4.100799560546875e-05 seconds ---, Find one match\n",
      "--- 6.127357482910156e-05 seconds ---, Find one match\n",
      "--- 3.504753112792969e-05 seconds ---, Find one match\n",
      "--- 6.818771362304688e-05 seconds ---, Find one match\n",
      "--- 3.1948089599609375e-05 seconds ---, Find one match\n",
      "--- 6.67572021484375e-05 seconds ---, Find one match\n",
      "--- 5.1021575927734375e-05 seconds ---, Find one match\n",
      "--- 53.561004877090454 seconds ---, Job done\n",
      "[{0: 72, 1: 184, 2: 185, 3: 1456, 4: 2595, 5: 59, 6: 3536, 7: 184, 8: 4600, 9: 6153, 10: 6664, 11: 7357, 12: 3209, 13: 8181, 14: 8203, 15: 3750}, {0: 72, 1: 184, 2: 185, 3: 1456, 4: 2595, 5: 59, 6: 3536, 7: 184, 8: 4600, 9: 6153, 10: 6664, 11: 7357, 12: 7866, 13: 8181, 14: 8203, 15: 3750}, {0: 72, 1: 184, 2: 185, 3: 1456, 4: 2595, 5: 59, 6: 3536, 7: 1746, 8: 4600, 9: 6153, 10: 6664, 11: 7357, 12: 3209, 13: 8181, 14: 8203, 15: 3750}, {0: 72, 1: 184, 2: 185, 3: 1456, 4: 2595, 5: 59, 6: 3536, 7: 1746, 8: 4600, 9: 6153, 10: 6664, 11: 7357, 12: 7866, 13: 8181, 14: 8203, 15: 3750}, {0: 72, 1: 184, 2: 185, 3: 1456, 4: 2595, 5: 59, 6: 3536, 7: 4166, 8: 4600, 9: 6153, 10: 6664, 11: 7357, 12: 3209, 13: 8181, 14: 8203, 15: 3750}, {0: 72, 1: 184, 2: 185, 3: 1456, 4: 2595, 5: 59, 6: 3536, 7: 4166, 8: 4600, 9: 6153, 10: 6664, 11: 7357, 12: 7866, 13: 8181, 14: 8203, 15: 3750}, {0: 72, 1: 184, 2: 185, 3: 1456, 4: 2595, 5: 2860, 6: 3536, 7: 184, 8: 4600, 9: 6153, 10: 6664, 11: 7357, 12: 3209, 13: 8181, 14: 8203, 15: 231}, {0: 72, 1: 184, 2: 185, 3: 1456, 4: 2595, 5: 2860, 6: 3536, 7: 184, 8: 4600, 9: 6153, 10: 6664, 11: 7357, 12: 7866, 13: 8181, 14: 8203, 15: 231}, {0: 72, 1: 184, 2: 185, 3: 1456, 4: 2595, 5: 2860, 6: 3536, 7: 1746, 8: 4600, 9: 6153, 10: 6664, 11: 7357, 12: 3209, 13: 8181, 14: 8203, 15: 231}, {0: 72, 1: 184, 2: 185, 3: 1456, 4: 2595, 5: 2860, 6: 3536, 7: 1746, 8: 4600, 9: 6153, 10: 6664, 11: 7357, 12: 7866, 13: 8181, 14: 8203, 15: 231}, {0: 72, 1: 184, 2: 185, 3: 1456, 4: 2595, 5: 2860, 6: 3536, 7: 4166, 8: 4600, 9: 6153, 10: 6664, 11: 7357, 12: 3209, 13: 8181, 14: 8203, 15: 231}, {0: 72, 1: 184, 2: 185, 3: 1456, 4: 2595, 5: 2860, 6: 3536, 7: 4166, 8: 4600, 9: 6153, 10: 6664, 11: 7357, 12: 7866, 13: 8181, 14: 8203, 15: 231}, {0: 72, 1: 184, 2: 185, 3: 1456, 4: 2595, 5: 3054, 6: 3536, 7: 184, 8: 4600, 9: 6153, 10: 6664, 11: 7357, 12: 3209, 13: 8181, 14: 8203, 15: 8368}, {0: 72, 1: 184, 2: 185, 3: 1456, 4: 2595, 5: 3054, 6: 3536, 7: 184, 8: 4600, 9: 6153, 10: 6664, 11: 7357, 12: 3209, 13: 8181, 14: 8203, 15: 8407}, {0: 72, 1: 184, 2: 185, 3: 1456, 4: 2595, 5: 3054, 6: 3536, 7: 184, 8: 4600, 9: 6153, 10: 6664, 11: 7357, 12: 7866, 13: 8181, 14: 8203, 15: 8368}, {0: 72, 1: 184, 2: 185, 3: 1456, 4: 2595, 5: 3054, 6: 3536, 7: 184, 8: 4600, 9: 6153, 10: 6664, 11: 7357, 12: 7866, 13: 8181, 14: 8203, 15: 8407}, {0: 72, 1: 184, 2: 185, 3: 1456, 4: 2595, 5: 3054, 6: 3536, 7: 1746, 8: 4600, 9: 6153, 10: 6664, 11: 7357, 12: 3209, 13: 8181, 14: 8203, 15: 8368}, {0: 72, 1: 184, 2: 185, 3: 1456, 4: 2595, 5: 3054, 6: 3536, 7: 1746, 8: 4600, 9: 6153, 10: 6664, 11: 7357, 12: 3209, 13: 8181, 14: 8203, 15: 8407}, {0: 72, 1: 184, 2: 185, 3: 1456, 4: 2595, 5: 3054, 6: 3536, 7: 1746, 8: 4600, 9: 6153, 10: 6664, 11: 7357, 12: 7866, 13: 8181, 14: 8203, 15: 8368}, {0: 72, 1: 184, 2: 185, 3: 1456, 4: 2595, 5: 3054, 6: 3536, 7: 1746, 8: 4600, 9: 6153, 10: 6664, 11: 7357, 12: 7866, 13: 8181, 14: 8203, 15: 8407}, {0: 72, 1: 184, 2: 185, 3: 1456, 4: 2595, 5: 3054, 6: 3536, 7: 4166, 8: 4600, 9: 6153, 10: 6664, 11: 7357, 12: 3209, 13: 8181, 14: 8203, 15: 8368}, {0: 72, 1: 184, 2: 185, 3: 1456, 4: 2595, 5: 3054, 6: 3536, 7: 4166, 8: 4600, 9: 6153, 10: 6664, 11: 7357, 12: 3209, 13: 8181, 14: 8203, 15: 8407}, {0: 72, 1: 184, 2: 185, 3: 1456, 4: 2595, 5: 3054, 6: 3536, 7: 4166, 8: 4600, 9: 6153, 10: 6664, 11: 7357, 12: 7866, 13: 8181, 14: 8203, 15: 8368}, {0: 72, 1: 184, 2: 185, 3: 1456, 4: 2595, 5: 3054, 6: 3536, 7: 4166, 8: 4600, 9: 6153, 10: 6664, 11: 7357, 12: 7866, 13: 8181, 14: 8203, 15: 8407}]\n"
     ]
    }
   ],
   "source": [
    "q2 = convert_graph('./dataset/query_graph/query_dense_16_100.graph')\n",
    "print(SGM.check_match_subgraph(q2))"
   ]
  },
  {
   "cell_type": "code",
   "execution_count": null,
   "metadata": {},
   "outputs": [],
   "source": []
  },
  {
   "cell_type": "code",
   "execution_count": null,
   "metadata": {},
   "outputs": [],
   "source": []
  },
  {
   "cell_type": "code",
   "execution_count": null,
   "metadata": {},
   "outputs": [],
   "source": []
  },
  {
   "cell_type": "code",
   "execution_count": null,
   "metadata": {},
   "outputs": [],
   "source": []
  }
 ],
 "metadata": {
  "kernelspec": {
   "display_name": "Python 3",
   "language": "python",
   "name": "python3"
  },
  "language_info": {
   "codemirror_mode": {
    "name": "ipython",
    "version": 3
   },
   "file_extension": ".py",
   "mimetype": "text/x-python",
   "name": "python",
   "nbconvert_exporter": "python",
   "pygments_lexer": "ipython3",
   "version": "3.8.5"
  }
 },
 "nbformat": 4,
 "nbformat_minor": 4
}

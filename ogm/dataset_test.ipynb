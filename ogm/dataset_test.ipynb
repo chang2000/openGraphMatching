{
 "cells": [
  {
   "cell_type": "code",
   "execution_count": 2,
   "metadata": {},
   "outputs": [],
   "source": [
    "%load_ext autoreload\n",
    "%autoreload 2\n",
    "import networkx as nx\n",
    "import matplotlib.pyplot as plt\n",
    "from SubGraphMatcherEnhanced import SubGraphMatcher \n",
    "from utils.convert_graph import convert_graph\n",
    "import sys #enssential for relative path"
   ]
  },
  {
   "cell_type": "code",
   "execution_count": null,
   "metadata": {},
   "outputs": [],
   "source": [
    "def draw_graph(G):\n",
    "    labels = nx.get_node_attributes(G, 'feat') \n",
    "    options = {\n",
    "        'node_color': 'yellow',\n",
    "        'node_size': 400,\n",
    "        'width': 3,\n",
    "        'labels': labels,\n",
    "        'with_labels': True\n",
    "    }\n",
    "    nx.draw(G, **options)\n",
    "    plt.show()\n",
    "    \n",
    "def save_draw_graph(G):\n",
    "    labels = nx.get_node_attributes(G, 'feat') \n",
    "    options = {\n",
    "        'node_color': 'yellow',\n",
    "        'node_size': 400,\n",
    "        'width': 3,\n",
    "        'labels': labels,\n",
    "        'with_labels': True\n",
    "    }\n",
    "    nx.draw(G, **options)\n",
    "    plt.savefig(\"graph.png\", dpi=1000)"
   ]
  },
  {
   "cell_type": "code",
   "execution_count": 36,
   "metadata": {},
   "outputs": [
    {
     "name": "stdout",
     "output_type": "stream",
     "text": [
      "True\n"
     ]
    }
   ],
   "source": [
    "G = convert_graph('./dataset/sample_dataset/test_case_1.graph')\n",
    "q1 = convert_graph('./dataset/sample_dataset/query1_positive.graph')\n",
    "q2 = convert_graph('./dataset/sample_dataset/query1_positive.graph')\n",
    "print(nx.is_connected(G))"
   ]
  },
  {
   "cell_type": "code",
   "execution_count": 37,
   "metadata": {},
   "outputs": [
    {
     "name": "stdout",
     "output_type": "stream",
     "text": [
      "--- 5.888938903808594e-05 seconds ---, LDF Done\n",
      "After the filtering, 100.0% of the nodes left\n",
      "[(0, 0), (1, 1), (1, 3), (2, 2), (2, 4)]\n",
      "--- 5.507469177246094e-05 seconds ---, NLF, neighbor's label generated\n",
      "start to compute\n",
      "counter is 15\n",
      "avg running time is 5.088746547698975e-06\n",
      "--- 0.0006840229034423828 seconds ---, NLF Done\n",
      "After the filtering, 60.0% of the nodes left\n",
      "--- 2.002716064453125e-05 seconds ---, Find one match\n",
      "--- 0.0017359256744384766 seconds ---, Job done\n",
      "[{0: 0, 1: 1, 2: 2}]\n"
     ]
    }
   ],
   "source": [
    "# Smoke test\n",
    "SGM = SubGraphMatcher(G)\n",
    "print(SGM.check_match_subgraph(q2))"
   ]
  },
  {
   "cell_type": "code",
   "execution_count": 48,
   "metadata": {},
   "outputs": [
    {
     "name": "stdout",
     "output_type": "stream",
     "text": [
      "False\n"
     ]
    }
   ],
   "source": [
    "G = convert_graph('./dataset/data_graph/HPRD.graph')\n",
    "print(nx.is_connected(G))\n",
    "SGM = SubGraphMatcher(G)"
   ]
  },
  {
   "cell_type": "code",
   "execution_count": 49,
   "metadata": {},
   "outputs": [
    {
     "name": "stdout",
     "output_type": "stream",
     "text": [
      "--- 0.14806008338928223 seconds ---, LDF Done\n",
      "After the filtering, 30.137420718816067% of the nodes left\n",
      "--- 0.004368782043457031 seconds ---, NLF, neighbor's label generated\n",
      "2851\n",
      "--- 19.576303958892822 seconds ---, NLF Done\n",
      "After the filtering, 3.0972515856236784% of the nodes left\n",
      "--- 5.412101745605469e-05 seconds ---, Find one match\n",
      "--- 5.507469177246094e-05 seconds ---, Find one match\n",
      "--- 5.698204040527344e-05 seconds ---, Find one match\n",
      "--- 21.64953899383545 seconds ---, Job done\n",
      "[{0: 72, 1: 166, 2: 304, 3: 421, 4: 1081, 5: 1090, 6: 1144, 7: 1383, 8: 1538, 9: 1754, 10: 1846, 11: 2320, 12: 4399, 13: 4803, 14: 4887, 15: 5904}, {0: 72, 1: 166, 2: 304, 3: 421, 4: 1081, 5: 1331, 6: 162, 7: 1383, 8: 1538, 9: 1754, 10: 725, 11: 2320, 12: 4399, 13: 4803, 14: 4887, 15: 5904}, {0: 72, 1: 166, 2: 304, 3: 421, 4: 1081, 5: 1331, 6: 1144, 7: 1383, 8: 1538, 9: 1754, 10: 725, 11: 2320, 12: 4399, 13: 4803, 14: 4887, 15: 5904}]\n"
     ]
    }
   ],
   "source": [
    "q1 = convert_graph('./dataset/query_graph/query_dense_16_1.graph')\n",
    "print(SGM.check_match_subgraph(q1))"
   ]
  },
  {
   "cell_type": "code",
   "execution_count": 50,
   "metadata": {},
   "outputs": [
    {
     "name": "stdout",
     "output_type": "stream",
     "text": [
      "--- 0.1490633487701416 seconds ---, LDF Done\n",
      "After the filtering, 25.116279069767444% of the nodes left\n",
      "--- 0.004293918609619141 seconds ---, NLF, neighbor's label generated\n",
      "2376\n",
      "--- 9.540611028671265 seconds ---, NLF Done\n",
      "After the filtering, 1.5856236786469344% of the nodes left\n",
      "--- 5.888938903808594e-05 seconds ---, Find one match\n",
      "--- 5.698204040527344e-05 seconds ---, Find one match\n",
      "--- 8.273124694824219e-05 seconds ---, Find one match\n",
      "--- 5.888938903808594e-05 seconds ---, Find one match\n",
      "--- 5.507469177246094e-05 seconds ---, Find one match\n",
      "--- 5.602836608886719e-05 seconds ---, Find one match\n",
      "--- 5.507469177246094e-05 seconds ---, Find one match\n",
      "--- 5.698204040527344e-05 seconds ---, Find one match\n",
      "--- 5.602836608886719e-05 seconds ---, Find one match\n",
      "--- 5.602836608886719e-05 seconds ---, Find one match\n",
      "--- 5.507469177246094e-05 seconds ---, Find one match\n",
      "--- 5.626678466796875e-05 seconds ---, Find one match\n",
      "--- 5.4836273193359375e-05 seconds ---, Find one match\n",
      "--- 3.218650817871094e-05 seconds ---, Find one match\n",
      "--- 5.412101745605469e-05 seconds ---, Find one match\n",
      "--- 3.0994415283203125e-05 seconds ---, Find one match\n",
      "--- 5.507469177246094e-05 seconds ---, Find one match\n",
      "--- 2.9802322387695312e-05 seconds ---, Find one match\n",
      "--- 5.412101745605469e-05 seconds ---, Find one match\n",
      "--- 3.1948089599609375e-05 seconds ---, Find one match\n",
      "--- 5.602836608886719e-05 seconds ---, Find one match\n",
      "--- 3.695487976074219e-05 seconds ---, Find one match\n",
      "--- 5.7220458984375e-05 seconds ---, Find one match\n",
      "--- 3.218650817871094e-05 seconds ---, Find one match\n",
      "--- 13.59008002281189 seconds ---, Job done\n",
      "[{0: 72, 1: 184, 2: 185, 3: 1456, 4: 2595, 5: 59, 6: 3536, 7: 184, 8: 4600, 9: 6153, 10: 6664, 11: 7357, 12: 3209, 13: 8181, 14: 8203, 15: 3750}, {0: 72, 1: 184, 2: 185, 3: 1456, 4: 2595, 5: 59, 6: 3536, 7: 184, 8: 4600, 9: 6153, 10: 6664, 11: 7357, 12: 7866, 13: 8181, 14: 8203, 15: 3750}, {0: 72, 1: 184, 2: 185, 3: 1456, 4: 2595, 5: 59, 6: 3536, 7: 1746, 8: 4600, 9: 6153, 10: 6664, 11: 7357, 12: 3209, 13: 8181, 14: 8203, 15: 3750}, {0: 72, 1: 184, 2: 185, 3: 1456, 4: 2595, 5: 59, 6: 3536, 7: 1746, 8: 4600, 9: 6153, 10: 6664, 11: 7357, 12: 7866, 13: 8181, 14: 8203, 15: 3750}, {0: 72, 1: 184, 2: 185, 3: 1456, 4: 2595, 5: 59, 6: 3536, 7: 4166, 8: 4600, 9: 6153, 10: 6664, 11: 7357, 12: 3209, 13: 8181, 14: 8203, 15: 3750}, {0: 72, 1: 184, 2: 185, 3: 1456, 4: 2595, 5: 59, 6: 3536, 7: 4166, 8: 4600, 9: 6153, 10: 6664, 11: 7357, 12: 7866, 13: 8181, 14: 8203, 15: 3750}, {0: 72, 1: 184, 2: 185, 3: 1456, 4: 2595, 5: 2860, 6: 3536, 7: 184, 8: 4600, 9: 6153, 10: 6664, 11: 7357, 12: 3209, 13: 8181, 14: 8203, 15: 231}, {0: 72, 1: 184, 2: 185, 3: 1456, 4: 2595, 5: 2860, 6: 3536, 7: 184, 8: 4600, 9: 6153, 10: 6664, 11: 7357, 12: 7866, 13: 8181, 14: 8203, 15: 231}, {0: 72, 1: 184, 2: 185, 3: 1456, 4: 2595, 5: 2860, 6: 3536, 7: 1746, 8: 4600, 9: 6153, 10: 6664, 11: 7357, 12: 3209, 13: 8181, 14: 8203, 15: 231}, {0: 72, 1: 184, 2: 185, 3: 1456, 4: 2595, 5: 2860, 6: 3536, 7: 1746, 8: 4600, 9: 6153, 10: 6664, 11: 7357, 12: 7866, 13: 8181, 14: 8203, 15: 231}, {0: 72, 1: 184, 2: 185, 3: 1456, 4: 2595, 5: 2860, 6: 3536, 7: 4166, 8: 4600, 9: 6153, 10: 6664, 11: 7357, 12: 3209, 13: 8181, 14: 8203, 15: 231}, {0: 72, 1: 184, 2: 185, 3: 1456, 4: 2595, 5: 2860, 6: 3536, 7: 4166, 8: 4600, 9: 6153, 10: 6664, 11: 7357, 12: 7866, 13: 8181, 14: 8203, 15: 231}, {0: 72, 1: 184, 2: 185, 3: 1456, 4: 2595, 5: 3054, 6: 3536, 7: 184, 8: 4600, 9: 6153, 10: 6664, 11: 7357, 12: 3209, 13: 8181, 14: 8203, 15: 8368}, {0: 72, 1: 184, 2: 185, 3: 1456, 4: 2595, 5: 3054, 6: 3536, 7: 184, 8: 4600, 9: 6153, 10: 6664, 11: 7357, 12: 3209, 13: 8181, 14: 8203, 15: 8407}, {0: 72, 1: 184, 2: 185, 3: 1456, 4: 2595, 5: 3054, 6: 3536, 7: 184, 8: 4600, 9: 6153, 10: 6664, 11: 7357, 12: 7866, 13: 8181, 14: 8203, 15: 8368}, {0: 72, 1: 184, 2: 185, 3: 1456, 4: 2595, 5: 3054, 6: 3536, 7: 184, 8: 4600, 9: 6153, 10: 6664, 11: 7357, 12: 7866, 13: 8181, 14: 8203, 15: 8407}, {0: 72, 1: 184, 2: 185, 3: 1456, 4: 2595, 5: 3054, 6: 3536, 7: 1746, 8: 4600, 9: 6153, 10: 6664, 11: 7357, 12: 3209, 13: 8181, 14: 8203, 15: 8368}, {0: 72, 1: 184, 2: 185, 3: 1456, 4: 2595, 5: 3054, 6: 3536, 7: 1746, 8: 4600, 9: 6153, 10: 6664, 11: 7357, 12: 3209, 13: 8181, 14: 8203, 15: 8407}, {0: 72, 1: 184, 2: 185, 3: 1456, 4: 2595, 5: 3054, 6: 3536, 7: 1746, 8: 4600, 9: 6153, 10: 6664, 11: 7357, 12: 7866, 13: 8181, 14: 8203, 15: 8368}, {0: 72, 1: 184, 2: 185, 3: 1456, 4: 2595, 5: 3054, 6: 3536, 7: 1746, 8: 4600, 9: 6153, 10: 6664, 11: 7357, 12: 7866, 13: 8181, 14: 8203, 15: 8407}, {0: 72, 1: 184, 2: 185, 3: 1456, 4: 2595, 5: 3054, 6: 3536, 7: 4166, 8: 4600, 9: 6153, 10: 6664, 11: 7357, 12: 3209, 13: 8181, 14: 8203, 15: 8368}, {0: 72, 1: 184, 2: 185, 3: 1456, 4: 2595, 5: 3054, 6: 3536, 7: 4166, 8: 4600, 9: 6153, 10: 6664, 11: 7357, 12: 3209, 13: 8181, 14: 8203, 15: 8407}, {0: 72, 1: 184, 2: 185, 3: 1456, 4: 2595, 5: 3054, 6: 3536, 7: 4166, 8: 4600, 9: 6153, 10: 6664, 11: 7357, 12: 7866, 13: 8181, 14: 8203, 15: 8368}, {0: 72, 1: 184, 2: 185, 3: 1456, 4: 2595, 5: 3054, 6: 3536, 7: 4166, 8: 4600, 9: 6153, 10: 6664, 11: 7357, 12: 7866, 13: 8181, 14: 8203, 15: 8407}]\n"
     ]
    }
   ],
   "source": [
    "q2 = convert_graph('./dataset/query_graph/query_dense_16_100.graph')\n",
    "print(SGM.check_match_subgraph(q2))"
   ]
  },
  {
   "cell_type": "code",
   "execution_count": null,
   "metadata": {},
   "outputs": [],
   "source": []
  },
  {
   "cell_type": "code",
   "execution_count": null,
   "metadata": {},
   "outputs": [],
   "source": []
  },
  {
   "cell_type": "code",
   "execution_count": null,
   "metadata": {},
   "outputs": [],
   "source": []
  },
  {
   "cell_type": "code",
   "execution_count": null,
   "metadata": {},
   "outputs": [],
   "source": []
  }
 ],
 "metadata": {
  "kernelspec": {
   "display_name": "Python 3",
   "language": "python",
   "name": "python3"
  },
  "language_info": {
   "codemirror_mode": {
    "name": "ipython",
    "version": 3
   },
   "file_extension": ".py",
   "mimetype": "text/x-python",
   "name": "python",
   "nbconvert_exporter": "python",
   "pygments_lexer": "ipython3",
   "version": "3.8.5"
  }
 },
 "nbformat": 4,
 "nbformat_minor": 4
}

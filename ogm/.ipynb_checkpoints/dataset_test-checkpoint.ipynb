{
 "cells": [
  {
   "cell_type": "code",
   "execution_count": 2,
   "metadata": {},
   "outputs": [],
   "source": [
    "%load_ext autoreload\n",
    "%autoreload 2\n",
    "import networkx as nx\n",
    "import matplotlib.pyplot as plt\n",
    "from SubGraphMatcherEnhanced import SubGraphMatcher \n",
    "from utils.convert_graph import convert_graph\n",
    "import sys #enssential for relative path"
   ]
  },
  {
   "cell_type": "code",
   "execution_count": 3,
   "metadata": {},
   "outputs": [],
   "source": [
    "def draw_graph(G):\n",
    "    labels = nx.get_node_attributes(G, 'feat') \n",
    "    options = {\n",
    "        'node_color': 'yellow',\n",
    "        'node_size': 400,\n",
    "        'width': 3,\n",
    "        'labels': labels,\n",
    "        'with_labels': True\n",
    "    }\n",
    "    nx.draw(G, **options)\n",
    "    plt.show()\n",
    "    \n",
    "def save_draw_graph(G):\n",
    "    labels = nx.get_node_attributes(G, 'feat') \n",
    "    options = {\n",
    "        'node_color': 'yellow',\n",
    "        'node_size': 400,\n",
    "        'width': 3,\n",
    "        'labels': labels,\n",
    "        'with_labels': True\n",
    "    }\n",
    "    nx.draw(G, **options)\n",
    "    plt.savefig(\"graph.png\", dpi=1000)"
   ]
  },
  {
   "cell_type": "code",
   "execution_count": 11,
   "metadata": {},
   "outputs": [
    {
     "name": "stdout",
     "output_type": "stream",
     "text": [
      "True\n"
     ]
    }
   ],
   "source": [
    "G = convert_graph('./dataset/sample_dataset/test_case_1.graph')\n",
    "q1 = convert_graph('./dataset/sample_dataset/query1_positive.graph')\n",
    "q2 = convert_graph('./dataset/sample_dataset/query1_positive.graph')\n",
    "print(nx.is_connected(G))"
   ]
  },
  {
   "cell_type": "code",
   "execution_count": 12,
   "metadata": {},
   "outputs": [
    {
     "name": "stdout",
     "output_type": "stream",
     "text": [
      "--- 6.890296936035156e-05 seconds ---, LDF Done\n",
      "--- 0.00015306472778320312 seconds ---, NLF Done\n",
      "--- 2.3126602172851562e-05 seconds ---, Find one match\n",
      "--- 0.000560760498046875 seconds ---, Job done\n",
      "[{0: 0, 1: 1, 2: 2}]\n"
     ]
    }
   ],
   "source": [
    "# Smoke test\n",
    "SGM = SubGraphMatcher(G)\n",
    "print(SGM.check_match_subgraph(q2))"
   ]
  },
  {
   "cell_type": "code",
   "execution_count": 16,
   "metadata": {},
   "outputs": [
    {
     "name": "stdout",
     "output_type": "stream",
     "text": [
      "False\n",
      "--- 0.13630199432373047 seconds ---, LDF Done\n",
      "--- 65.66724300384521 seconds ---, NLF Done\n",
      "--- 5.4836273193359375e-05 seconds ---, Find one match\n",
      "--- 5.0067901611328125e-05 seconds ---, Find one match\n",
      "--- 5.316734313964844e-05 seconds ---, Find one match\n",
      "--- 67.42816829681396 seconds ---, Job done\n",
      "[{0: 72, 1: 166, 2: 304, 3: 421, 4: 1081, 5: 1090, 6: 1144, 7: 1383, 8: 1538, 9: 1754, 10: 1846, 11: 2320, 12: 4399, 13: 4803, 14: 4887, 15: 5904}, {0: 72, 1: 166, 2: 304, 3: 421, 4: 1081, 5: 1331, 6: 162, 7: 1383, 8: 1538, 9: 1754, 10: 725, 11: 2320, 12: 4399, 13: 4803, 14: 4887, 15: 5904}, {0: 72, 1: 166, 2: 304, 3: 421, 4: 1081, 5: 1331, 6: 1144, 7: 1383, 8: 1538, 9: 1754, 10: 725, 11: 2320, 12: 4399, 13: 4803, 14: 4887, 15: 5904}]\n"
     ]
    }
   ],
   "source": [
    "# Read the big data graph\n",
    "G = convert_graph('./dataset/data_graph/HPRD.graph')\n",
    "q1 = convert_graph('./dataset/query_graph/query_dense_16_1.graph')\n",
    "print(nx.is_connected(G))\n",
    "SGM = SubGraphMatcher(G)\n",
    "# save_draw_graph(G)\n",
    "print(SGM.check_match_subgraph(q1))"
   ]
  },
  {
   "cell_type": "code",
   "execution_count": null,
   "metadata": {},
   "outputs": [],
   "source": [
    "q2 = convert_graph('./dataset/query_graph/query_dense_16_100.graph')"
   ]
  },
  {
   "cell_type": "code",
   "execution_count": null,
   "metadata": {},
   "outputs": [],
   "source": []
  },
  {
   "cell_type": "code",
   "execution_count": null,
   "metadata": {},
   "outputs": [],
   "source": []
  },
  {
   "cell_type": "code",
   "execution_count": null,
   "metadata": {},
   "outputs": [],
   "source": []
  },
  {
   "cell_type": "code",
   "execution_count": null,
   "metadata": {},
   "outputs": [],
   "source": []
  }
 ],
 "metadata": {
  "kernelspec": {
   "display_name": "Python 3",
   "language": "python",
   "name": "python3"
  },
  "language_info": {
   "codemirror_mode": {
    "name": "ipython",
    "version": 3
   },
   "file_extension": ".py",
   "mimetype": "text/x-python",
   "name": "python",
   "nbconvert_exporter": "python",
   "pygments_lexer": "ipython3",
   "version": "3.8.5"
  }
 },
 "nbformat": 4,
 "nbformat_minor": 4
}

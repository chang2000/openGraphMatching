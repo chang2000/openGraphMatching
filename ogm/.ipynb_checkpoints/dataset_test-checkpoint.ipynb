{
 "cells": [
  {
   "cell_type": "code",
   "execution_count": 54,
   "metadata": {},
   "outputs": [
    {
     "name": "stdout",
     "output_type": "stream",
     "text": [
      "The autoreload extension is already loaded. To reload it, use:\n",
      "  %reload_ext autoreload\n"
     ]
    }
   ],
   "source": [
    "%load_ext autoreload\n",
    "%autoreload 2\n",
    "import networkx as nx\n",
    "import matplotlib.pyplot as plt\n",
    "from SubGraphMatcherEnhanced import SubGraphMatcher \n",
    "# from utils.convert_graph import convert_graph\n",
    "import sys #enssential for relative path"
   ]
  },
  {
   "cell_type": "code",
   "execution_count": 55,
   "metadata": {},
   "outputs": [],
   "source": [
    "def draw_graph(G):\n",
    "    labels = nx.get_node_attributes(G, 'feat') \n",
    "    options = {\n",
    "        'node_color': 'yellow',\n",
    "        'node_size': 400,\n",
    "        'width': 3,\n",
    "        'labels': labels,\n",
    "        'with_labels': True\n",
    "    }\n",
    "    nx.draw(G, **options)\n",
    "    plt.show()"
   ]
  },
  {
   "cell_type": "code",
   "execution_count": 62,
   "metadata": {},
   "outputs": [
    {
     "data": {
      "image/png": "[encoded data removed]",
      "text/plain": [
       "<Figure size 432x288 with 1 Axes>"
      ]
     },
     "metadata": {},
     "output_type": "display_data"
    },
    {
     "data": {
      "image/png": "[encoded data removed]",
      "text/plain": [
       "<Figure size 432x288 with 1 Axes>"
      ]
     },
     "metadata": {},
     "output_type": "display_data"
    },
    {
     "data": {
      "image/png": "[encoded data removed]",
      "text/plain": [
       "<Figure size 432x288 with 1 Axes>"
      ]
     },
     "metadata": {},
     "output_type": "display_data"
    }
   ],
   "source": [
    "def convert_graph(filepath):\n",
    "    f = open(filepath, \"r\")\n",
    "    # retrive the information of the first line\n",
    "    first_line = f.readline()\n",
    "    meta_data = first_line.split(' ')\n",
    "    num_nodes = int(meta_data[1])\n",
    "    num_edge = int(meta_data[2])\n",
    "    graph_nodes = []\n",
    "    graph_edges = []\n",
    "    # read nodes\n",
    "    # ['e', $node_id, $node_label, $node_degree]\n",
    "    for i in range(num_nodes):\n",
    "        line = f.readline()\n",
    "        node_data = line.split(' ')\n",
    "        graph_nodes.append((int(node_data[1]), {'feat' : node_data[2]}))\n",
    "        \n",
    "    # read edges\n",
    "    for i in range(num_edge):\n",
    "        line = f.readline()\n",
    "        edge_data = line.split(' ')\n",
    "        graph_edges.append((int(edge_data[1]), int(edge_data[2])))\n",
    "    g = nx.Graph()\n",
    "    g.add_nodes_from(graph_nodes)\n",
    "    g.add_edges_from(graph_edges)\n",
    "    return g\n",
    "G = convert_graph('./dataset/sample_dataset/test_case_1.graph')\n",
    "draw_graph(G)\n",
    "\n",
    "q1 = convert_graph('./dataset/sample_dataset/query1_positive.graph')\n",
    "draw_graph(q1)\n",
    "\n",
    "q2 = convert_graph('./dataset/sample_dataset/query1_positive.graph')\n",
    "draw_graph(q2)\n"
   ]
  },
  {
   "cell_type": "code",
   "execution_count": 69,
   "metadata": {},
   "outputs": [
    {
     "name": "stdout",
     "output_type": "stream",
     "text": [
      "lc is [(0, 0)]\n",
      "bn for 1 [0]\n",
      "v is (1, 1)\n",
      "lc for u 1 [(1, 1)]\n",
      "lc is [(1, 1)]\n",
      "bn for 2 [0]\n",
      "v is (2, 2)\n",
      "lc for u 2 [(2, 2)]\n",
      "lc is [(2, 2)]\n",
      "Yes\n"
     ]
    },
    {
     "data": {
      "text/plain": [
       "[{0: 0, 1: 1, 2: 2}]"
      ]
     },
     "execution_count": 69,
     "metadata": {},
     "output_type": "execute_result"
    }
   ],
   "source": [
    "SGM = SubGraphMatcher(G)\n",
    "SGM.check_match_subgraph(q1)\n",
    "# SGM.draw_multi_results()"
   ]
  },
  {
   "cell_type": "code",
   "execution_count": 67,
   "metadata": {},
   "outputs": [
    {
     "name": "stdout",
     "output_type": "stream",
     "text": [
      "lc is [(0, 0)]\n",
      "bn for 1 [0]\n",
      "v is (1, 1)\n",
      "lc for u 1 [(1, 1)]\n",
      "lc is [(1, 1)]\n",
      "bn for 2 [0]\n",
      "v is (2, 2)\n",
      "lc for u 2 [(2, 2)]\n",
      "lc is [(2, 2)]\n",
      "Yes\n"
     ]
    },
    {
     "data": {
      "text/plain": [
       "[{0: 0, 1: 1, 2: 2}, {0: 0, 1: 1, 2: 2}]"
      ]
     },
     "execution_count": 67,
     "metadata": {},
     "output_type": "execute_result"
    }
   ],
   "source": [
    "SGM.check_match_subgraph(q2)\n",
    "SGM.draw_multi_results()"
   ]
  }
 ],
 "metadata": {
  "kernelspec": {
   "display_name": "Python 3",
   "language": "python",
   "name": "python3"
  },
  "language_info": {
   "codemirror_mode": {
    "name": "ipython",
    "version": 3
   },
   "file_extension": ".py",
   "mimetype": "text/x-python",
   "name": "python",
   "nbconvert_exporter": "python",
   "pygments_lexer": "ipython3",
   "version": "3.8.5"
  }
 },
 "nbformat": 4,
 "nbformat_minor": 4
}

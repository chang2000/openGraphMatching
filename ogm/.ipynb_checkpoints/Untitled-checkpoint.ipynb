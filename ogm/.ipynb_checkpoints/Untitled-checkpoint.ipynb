{
 "cells": [
  {
   "cell_type": "code",
   "execution_count": 348,
   "metadata": {},
   "outputs": [
    {
     "name": "stdout",
     "output_type": "stream",
     "text": [
      "The autoreload extension is already loaded. To reload it, use:\n",
      "  %reload_ext autoreload\n"
     ]
    }
   ],
   "source": [
    "# auto reload for python packages\n",
    "%load_ext autoreload\n",
    "%autoreload 2\n",
    "import networkx as nx\n",
    "import matplotlib.pyplot as plt\n",
    "from SubGraphMatcherEnhanced import SubGraphMatcher \n",
    "from SubGraphMatcherNaive import SubGraphMatcherNaive # The brute force solution"
   ]
  },
  {
   "cell_type": "code",
   "execution_count": 34,
   "metadata": {},
   "outputs": [
    {
     "name": "stdout",
     "output_type": "stream",
     "text": [
      "<module 'networkx' from '/Users/alex/opt/anaconda3/envs/net/lib/python3.8/site-packages/networkx/__init__.py'>\n"
     ]
    }
   ],
   "source": [
    "print(nx)"
   ]
  },
  {
   "cell_type": "code",
   "execution_count": 114,
   "metadata": {},
   "outputs": [],
   "source": [
    "def draw_graph(G):\n",
    "    labels = nx.get_node_attributes(G, 'feat') \n",
    "    options = {\n",
    "        'node_color': 'yellow',\n",
    "        'node_size': 400,\n",
    "        'width': 3,\n",
    "        'labels': labels,\n",
    "        'with_labels': True\n",
    "    }\n",
    "    nx.draw(G, **options)\n",
    "    plt.show()\n",
    "\n",
    "G_t = nx.path_graph(10)\n",
    "G_q = nx.path_graph(2)\n",
    "# draw_graph(G_t)\n",
    "# draw_graph(G_q)"
   ]
  },
  {
   "cell_type": "code",
   "execution_count": 115,
   "metadata": {},
   "outputs": [],
   "source": [
    "# Create a list of queris\n",
    "queries = []\n",
    "for i in range(10):\n",
    "    queries.append(nx.path_graph(i))"
   ]
  },
  {
   "cell_type": "code",
   "execution_count": 206,
   "metadata": {},
   "outputs": [
    {
     "data": {
      "image/png": "[encoded data removed]",
      "text/plain": [
       "<Figure size 432x288 with 1 Axes>"
      ]
     },
     "metadata": {},
     "output_type": "display_data"
    },
    {
     "name": "stdout",
     "output_type": "stream",
     "text": [
      "Matched! (0, 1)\n",
      "True\n"
     ]
    }
   ],
   "source": [
    "SGM = SubGraphMatcherNaive(G_t)\n",
    "print(SGM.check_match_subgraph(G_q))\n",
    "# SGM.LDF(G_q, G_t)"
   ]
  },
  {
   "cell_type": "code",
   "execution_count": null,
   "metadata": {},
   "outputs": [],
   "source": []
  },
  {
   "cell_type": "code",
   "execution_count": 143,
   "metadata": {},
   "outputs": [],
   "source": [
    "# Test the node feature part\n",
    "G1 = nx.Graph()\n",
    "G1.add_nodes_from([\n",
    "    (0, {'feat': 'A'}),\n",
    "    (1, {'feat': 'B'}),\n",
    "    (2, {'feat': 'C'}),\n",
    "    (3, {'feat': 'D'}),\n",
    "])\n",
    "G1.add_edges_from([\n",
    "    (0, 1),\n",
    "    (0, 2),\n",
    "    (1, 2),\n",
    "    (1, 3),\n",
    "    (2, 3)])\n",
    "# draw_graph(G1)"
   ]
  },
  {
   "cell_type": "code",
   "execution_count": 142,
   "metadata": {},
   "outputs": [],
   "source": [
    "G2 = nx.Graph()\n",
    "G2.add_nodes_from([\n",
    "    (0, {'feat': 'A'}),\n",
    "    (1, {'feat': 'C'}),\n",
    "    (2, {'feat': 'B'}),\n",
    "    (3, {'feat': 'C'}),\n",
    "    (4, {'feat': 'B'}),\n",
    "    (5, {'feat': 'C'}),\n",
    "    (6, {'feat': 'B'}),\n",
    "    (7, {'feat': 'C'}),\n",
    "    (8, {'feat': 'D'}),\n",
    "    (9, {'feat': 'D'}),\n",
    "    (10, {'feat': 'D'}),\n",
    "    (11, {'feat': 'D'}),\n",
    "    (12, {'feat': 'D'}),\n",
    "    (13, {'feat': 'C'}),\n",
    "    (14, {'feat': 'D'}),\n",
    "])\n",
    "G2.add_edges_from([\n",
    "    (0, 1),\n",
    "    (0, 2),\n",
    "    (0, 3),\n",
    "    (0, 4),\n",
    "    (0, 5),\n",
    "    (0, 6),\n",
    "    (0, 7),\n",
    "    (1, 2),\n",
    "    (1, 8),\n",
    "    (2, 9),\n",
    "    (2, 10),\n",
    "    (3, 4),\n",
    "    (3, 10),\n",
    "    (4, 5),\n",
    "    (4, 10),\n",
    "    (4, 11),\n",
    "    (4, 12),\n",
    "    (5, 12),\n",
    "    (6, 12),\n",
    "    (6, 13),\n",
    "    (7, 14),\n",
    "    (9, 10),\n",
    "])\n",
    "# draw_graph(G2)"
   ]
  },
  {
   "cell_type": "code",
   "execution_count": 78,
   "metadata": {},
   "outputs": [],
   "source": []
  },
  {
   "cell_type": "code",
   "execution_count": 79,
   "metadata": {},
   "outputs": [
    {
     "data": {
      "text/plain": [
       "True"
      ]
     },
     "execution_count": 79,
     "metadata": {},
     "output_type": "execute_result"
    }
   ],
   "source": []
  },
  {
   "cell_type": "code",
   "execution_count": 347,
   "metadata": {
    "scrolled": true
   },
   "outputs": [
    {
     "name": "stdout",
     "output_type": "stream",
     "text": [
      "Enter computeLC\n",
      "C is [(0, 0), (1, 2), (1, 4), (1, 6), (2, 1), (2, 3), (2, 5), (3, 10), (3, 12)]\n",
      "u is 0\n",
      "current M is {}\n",
      "lc is [(0, 0)]\n",
      "c in insection is (0, 0)\n",
      "Enter computeLC\n",
      "C is [(0, 0), (1, 2), (1, 4), (1, 6), (2, 1), (2, 3), (2, 5), (3, 10), (3, 12)]\n",
      "u is 1\n",
      "current M is {0: 0}\n",
      "enter backward_neighbors computation\n",
      "u is 1\n",
      "order is [0, 1, 2, 3]\n",
      "ns is [0]\n",
      "enter backward_neighbors computation\n",
      "u is 1\n",
      "order is [0, 1, 2, 3]\n",
      "ns is [0]\n",
      "bn for 1 [0]\n",
      "v is (1, 2)\n",
      "v is (1, 4)\n",
      "v is (1, 6)\n",
      "lc for u 1 [(1, 2), (1, 4), (1, 6)]\n",
      "lc is [(1, 2), (1, 4), (1, 6)]\n",
      "c in insection is (1, 2)\n",
      "Enter computeLC\n",
      "C is [(0, 0), (1, 2), (1, 4), (1, 6), (2, 1), (2, 3), (2, 5), (3, 10), (3, 12)]\n",
      "u is 2\n",
      "current M is {0: 0, 1: 2}\n",
      "enter backward_neighbors computation\n",
      "u is 2\n",
      "order is [0, 1, 2, 3]\n",
      "ns is [0, 1]\n",
      "enter backward_neighbors computation\n",
      "u is 2\n",
      "order is [0, 1, 2, 3]\n",
      "ns is [0, 1]\n",
      "bn for 2 [0, 1]\n",
      "v is (2, 1)\n",
      "v is (2, 3)\n",
      "edge is None\n",
      "wrong\n",
      "v is (2, 5)\n",
      "edge is None\n",
      "wrong\n",
      "lc for u 2 [(2, 1)]\n",
      "lc is [(2, 1)]\n",
      "c in insection is (2, 1)\n",
      "Enter computeLC\n",
      "C is [(0, 0), (1, 2), (1, 4), (1, 6), (2, 1), (2, 3), (2, 5), (3, 10), (3, 12)]\n",
      "u is 3\n",
      "current M is {0: 0, 1: 2, 2: 1}\n",
      "enter backward_neighbors computation\n",
      "u is 3\n",
      "order is [0, 1, 2, 3]\n",
      "ns is [1, 2]\n",
      "enter backward_neighbors computation\n",
      "u is 3\n",
      "order is [0, 1, 2, 3]\n",
      "ns is [1, 2]\n",
      "bn for 3 [1, 2]\n",
      "v is (3, 10)\n",
      "edge is None\n",
      "wrong\n",
      "v is (3, 12)\n",
      "edge is None\n",
      "wrong\n",
      "lc for u 3 []\n",
      "lc is []\n",
      "before error {0: 0, 1: 2, 2: 1}\n",
      "before error {0: 0, 1: 2}\n",
      "c in insection is (1, 4)\n",
      "Enter computeLC\n",
      "C is [(0, 0), (1, 2), (1, 4), (1, 6), (2, 1), (2, 3), (2, 5), (3, 10), (3, 12)]\n",
      "u is 2\n",
      "current M is {0: 0, 1: 4}\n",
      "enter backward_neighbors computation\n",
      "u is 2\n",
      "order is [0, 1, 2, 3]\n",
      "ns is [0, 1]\n",
      "enter backward_neighbors computation\n",
      "u is 2\n",
      "order is [0, 1, 2, 3]\n",
      "ns is [0, 1]\n",
      "bn for 2 [0, 1]\n",
      "v is (2, 1)\n",
      "edge is None\n",
      "wrong\n",
      "v is (2, 3)\n",
      "v is (2, 5)\n",
      "lc for u 2 [(2, 3), (2, 5)]\n",
      "lc is [(2, 3), (2, 5)]\n",
      "c in insection is (2, 3)\n",
      "Enter computeLC\n",
      "C is [(0, 0), (1, 2), (1, 4), (1, 6), (2, 1), (2, 3), (2, 5), (3, 10), (3, 12)]\n",
      "u is 3\n",
      "current M is {0: 0, 1: 4, 2: 3}\n",
      "enter backward_neighbors computation\n",
      "u is 3\n",
      "order is [0, 1, 2, 3]\n",
      "ns is [1, 2]\n",
      "enter backward_neighbors computation\n",
      "u is 3\n",
      "order is [0, 1, 2, 3]\n",
      "ns is [1, 2]\n",
      "bn for 3 [1, 2]\n",
      "v is (3, 10)\n",
      "v is (3, 12)\n",
      "edge is None\n",
      "wrong\n",
      "lc for u 3 [(3, 10)]\n",
      "lc is [(3, 10)]\n",
      "c in insection is (3, 10)\n",
      "matching output: {0: 0, 1: 4, 2: 3, 3: 10}\n",
      "before error {0: 0, 1: 4, 2: 3, 3: 10}\n",
      "before error {0: 0, 1: 4, 2: 3}\n",
      "c in insection is (2, 5)\n",
      "Enter computeLC\n",
      "C is [(0, 0), (1, 2), (1, 4), (1, 6), (2, 1), (2, 3), (2, 5), (3, 10), (3, 12)]\n",
      "u is 3\n",
      "current M is {0: 0, 1: 4, 2: 5}\n",
      "enter backward_neighbors computation\n",
      "u is 3\n",
      "order is [0, 1, 2, 3]\n",
      "ns is [1, 2]\n",
      "enter backward_neighbors computation\n",
      "u is 3\n",
      "order is [0, 1, 2, 3]\n",
      "ns is [1, 2]\n",
      "bn for 3 [1, 2]\n",
      "v is (3, 10)\n",
      "edge is None\n",
      "wrong\n",
      "v is (3, 12)\n",
      "lc for u 3 [(3, 12)]\n",
      "lc is [(3, 12)]\n",
      "c in insection is (3, 12)\n",
      "matching output: {0: 0, 1: 4, 2: 5, 3: 12}\n",
      "before error {0: 0, 1: 4, 2: 5, 3: 12}\n",
      "before error {0: 0, 1: 4, 2: 5}\n",
      "before error {0: 0, 1: 4}\n",
      "c in insection is (1, 6)\n",
      "Enter computeLC\n",
      "C is [(0, 0), (1, 2), (1, 4), (1, 6), (2, 1), (2, 3), (2, 5), (3, 10), (3, 12)]\n",
      "u is 2\n",
      "current M is {0: 0, 1: 6}\n",
      "enter backward_neighbors computation\n",
      "u is 2\n",
      "order is [0, 1, 2, 3]\n",
      "ns is [0, 1]\n",
      "enter backward_neighbors computation\n",
      "u is 2\n",
      "order is [0, 1, 2, 3]\n",
      "ns is [0, 1]\n",
      "bn for 2 [0, 1]\n",
      "v is (2, 1)\n",
      "edge is None\n",
      "wrong\n",
      "v is (2, 3)\n",
      "edge is None\n",
      "wrong\n",
      "v is (2, 5)\n",
      "edge is None\n",
      "wrong\n",
      "lc for u 2 []\n",
      "lc is []\n",
      "before error {0: 0, 1: 6}\n",
      "before error {0: 0}\n"
     ]
    }
   ],
   "source": [
    "# Validate the subgraph matching with node features\n",
    "SGM = SubGraphMatcher(G2)\n",
    "SGM.check_match_subgraph(G1)"
   ]
  },
  {
   "cell_type": "code",
   "execution_count": 245,
   "metadata": {},
   "outputs": [],
   "source": [
    "# New Test"
   ]
  },
  {
   "cell_type": "code",
   "execution_count": 342,
   "metadata": {},
   "outputs": [
    {
     "name": "stdout",
     "output_type": "stream",
     "text": [
      "enter backward_neighbors computation\n",
      "u is 3\n",
      "order is [0, 1, 2, 3]\n",
      "ns is [1, 2]\n"
     ]
    },
    {
     "data": {
      "text/plain": [
       "[1, 2]"
      ]
     },
     "execution_count": 342,
     "metadata": {},
     "output_type": "execute_result"
    }
   ],
   "source": [
    "SGM.backward_neighbors(3, [0,1,2,3], G1)"
   ]
  }
 ],
 "metadata": {
  "kernelspec": {
   "display_name": "Python 3",
   "language": "python",
   "name": "python3"
  },
  "language_info": {
   "codemirror_mode": {
    "name": "ipython",
    "version": 3
   },
   "file_extension": ".py",
   "mimetype": "text/x-python",
   "name": "python",
   "nbconvert_exporter": "python",
   "pygments_lexer": "ipython3",
   "version": "3.8.5"
  }
 },
 "nbformat": 4,
 "nbformat_minor": 4
}

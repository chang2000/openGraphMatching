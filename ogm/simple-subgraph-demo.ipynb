{
 "cells": [
  {
   "cell_type": "code",
   "execution_count": 1,
   "metadata": {},
   "outputs": [],
   "source": [
    "# This is the demo for networkx "
   ]
  },
  {
   "cell_type": "code",
   "execution_count": 8,
   "metadata": {},
   "outputs": [
    {
     "name": "stdout",
     "output_type": "stream",
     "text": [
      "[1]\n"
     ]
    }
   ],
   "source": [
    "import networkx as nx\n",
    "# Create a Graph\n",
    "G = nx.Graph()\n",
    "\n",
    "\"\"\"\n",
    "A Graph instance is a collection of nodes, and edges.\n",
    "In NetworkX, nodes can be any *hasable* obj\n",
    "\"\"\"\n",
    "\n",
    "# Add nodes, add edges, add path\n",
    "G.add_node(1)\n",
    "print(G.nodes)"
   ]
  },
  {
   "cell_type": "code",
   "execution_count": 9,
   "metadata": {},
   "outputs": [
    {
     "name": "stdout",
     "output_type": "stream",
     "text": [
      "[1, 2, 3]\n"
     ]
    }
   ],
   "source": [
    "G.add_nodes_from([2, 3])\n",
    "print(G.nodes)"
   ]
  },
  {
   "cell_type": "code",
   "execution_count": 10,
   "metadata": {},
   "outputs": [
    {
     "name": "stdout",
     "output_type": "stream",
     "text": [
      "[1, 2, 3, 4, 5]\n"
     ]
    }
   ],
   "source": [
    "# Add nodes with *attributes*(node features)\n",
    "G.add_nodes_from([\n",
    "    (4, {\"color\": \"red\"}),\n",
    "    (5, {\"color\": \"blue\"}),\n",
    "])\n",
    "print(G.nodes) # Reserved to be discussed"
   ]
  },
  {
   "cell_type": "code",
   "execution_count": 11,
   "metadata": {},
   "outputs": [
    {
     "name": "stdout",
     "output_type": "stream",
     "text": [
      "[0, 1, 2, 3, 4, 5, 6, 7, 8, 9]\n",
      "[(0, 1), (1, 2), (2, 3), (3, 4), (4, 5), (5, 6), (6, 7), (7, 8), (8, 9)]\n"
     ]
    }
   ],
   "source": [
    "H = nx.path_graph(10)\n",
    "print(H.nodes)\n",
    "print(H.edges)"
   ]
  },
  {
   "cell_type": "code",
   "execution_count": 12,
   "metadata": {},
   "outputs": [
    {
     "name": "stdout",
     "output_type": "stream",
     "text": [
      "[1, 2, 3, 4, 5, 0, 6, 7, 8, 9]\n",
      "[]\n"
     ]
    }
   ],
   "source": [
    "# Incorporate with another graph\n",
    "G.add_nodes_from(H)\n",
    "print(G.nodes)\n",
    "print(G.edges)"
   ]
  },
  {
   "cell_type": "code",
   "execution_count": 13,
   "metadata": {},
   "outputs": [
    {
     "name": "stdout",
     "output_type": "stream",
     "text": [
      "[(1, 2)]\n"
     ]
    }
   ],
   "source": [
    "# Edges\n",
    "G.add_edge(1,2)\n",
    "print(G.edges)\n",
    "e = (2,3)\n",
    "G.add_edge(*e) # unpack edge tuple"
   ]
  },
  {
   "cell_type": "code",
   "execution_count": 14,
   "metadata": {},
   "outputs": [
    {
     "name": "stdout",
     "output_type": "stream",
     "text": [
      "[]\n",
      "[]\n"
     ]
    }
   ],
   "source": [
    "G.add_edges_from([(1, 2), (1, 3)])\n",
    "G.clear()\n",
    "print(G.nodes)\n",
    "print(G.edges)"
   ]
  },
  {
   "cell_type": "code",
   "execution_count": 15,
   "metadata": {},
   "outputs": [],
   "source": [
    "G.add_edges_from([(1, 2), (1, 3)])\n",
    "G.add_node(1)\n",
    "G.add_edge(1, 2)\n",
    "G.add_node(\"spam\")        # adds node \"spam\"\n",
    "\n",
    "# Wow, this one is quite tricky\n",
    "G.add_nodes_from(\"spam\")  # adds 4 nodes: 's', 'p', 'a', 'm'\n",
    "G.add_edge(3, 'm')"
   ]
  },
  {
   "cell_type": "code",
   "execution_count": 16,
   "metadata": {},
   "outputs": [],
   "source": [
    "def printG(graph):\n",
    "    print(graph.nodes)\n",
    "    print(graph.edges)"
   ]
  },
  {
   "cell_type": "code",
   "execution_count": 17,
   "metadata": {},
   "outputs": [
    {
     "name": "stdout",
     "output_type": "stream",
     "text": [
      "[1, 2, 3, 'spam', 's', 'p', 'a', 'm']\n",
      "[(1, 2), (1, 3), (3, 'm')]\n"
     ]
    }
   ],
   "source": [
    "printG(G)"
   ]
  },
  {
   "cell_type": "code",
   "execution_count": 18,
   "metadata": {},
   "outputs": [
    {
     "data": {
      "text/plain": [
       "[1, 2, 3, 'spam', 's', 'p', 'a', 'm']"
      ]
     },
     "execution_count": 18,
     "metadata": {},
     "output_type": "execute_result"
    }
   ],
   "source": [
    "list(G.nodes)"
   ]
  },
  {
   "cell_type": "code",
   "execution_count": 19,
   "metadata": {},
   "outputs": [
    {
     "name": "stdout",
     "output_type": "stream",
     "text": [
      "{1: {2: {}, 3: {}}, 2: {1: {}}, 3: {1: {}, 'm': {}}, 'spam': {}, 's': {}, 'p': {}, 'a': {}, 'm': {3: {}}}\n",
      "{2: {}, 3: {}}\n",
      "{1: {}}\n"
     ]
    }
   ],
   "source": [
    "list(G.adj[1]) # or list(G.neighbors(1))\n",
    "print(G.adj)\n",
    "print(G.adj[1])\n",
    "print(G.adj[2])"
   ]
  },
  {
   "cell_type": "code",
   "execution_count": 20,
   "metadata": {},
   "outputs": [
    {
     "data": {
      "text/plain": [
       "2"
      ]
     },
     "execution_count": 20,
     "metadata": {},
     "output_type": "execute_result"
    }
   ],
   "source": [
    "G.degree[1]"
   ]
  },
  {
   "cell_type": "code",
   "execution_count": 21,
   "metadata": {},
   "outputs": [
    {
     "data": {
      "text/plain": [
       "EdgeDataView([(2, 1), ('m', 3)])"
      ]
     },
     "execution_count": 21,
     "metadata": {},
     "output_type": "execute_result"
    }
   ],
   "source": [
    "G.edges([2, 'm'])"
   ]
  },
  {
   "cell_type": "code",
   "execution_count": 22,
   "metadata": {},
   "outputs": [
    {
     "data": {
      "image/png": "[encoded data removed]",
      "text/plain": [
       "<Figure size 432x288 with 1 Axes>"
      ]
     },
     "metadata": {},
     "output_type": "display_data"
    }
   ],
   "source": [
    "import matplotlib.pyplot as plt\n",
    "nx.draw(G, with_labels=True)\n",
    "plt.show()"
   ]
  },
  {
   "cell_type": "code",
   "execution_count": 23,
   "metadata": {},
   "outputs": [
    {
     "name": "stdout",
     "output_type": "stream",
     "text": [
      "node: 1 neighbors [2, 3]\n",
      "node: 2 neighbors [1]\n",
      "node: 3 neighbors [1, 'm']\n",
      "node: spam neighbors []\n",
      "node: s neighbors []\n",
      "node: p neighbors []\n",
      "node: a neighbors []\n",
      "node: m neighbors [3]\n"
     ]
    }
   ],
   "source": [
    "for node in G.nodes:\n",
    "    print('node:', node, 'neighbors', list(G.adj[node]))"
   ]
  },
  {
   "cell_type": "code",
   "execution_count": 24,
   "metadata": {},
   "outputs": [
    {
     "data": {
      "image/png": "[encoded data removed]",
      "text/plain": [
       "<Figure size 432x288 with 1 Axes>"
      ]
     },
     "metadata": {},
     "output_type": "display_data"
    },
    {
     "name": "stdout",
     "output_type": "stream",
     "text": [
      "done\n"
     ]
    }
   ],
   "source": [
    "\n",
    "n = 50 # number of nodes\n",
    "m = 100 # number of edges\n",
    "\n",
    "options = {\n",
    "    'node_color': 'yellow',\n",
    "    \n",
    "    'node_size': 300,\n",
    "    'width': 3,\n",
    "    'with_labels': True\n",
    "}\n",
    "# G1 = nx.gnm_random_graph(n, m)\n",
    "# print(G1.nodes)\n",
    "# print(G1.edges)\n",
    "G1 = nx.Graph()\n",
    "G1.add_nodes_from([i for i in range(50)])\n",
    "G1.add_edges_from([(0, 41), (0, 44), (0, 49), (0, 37), (0, 31), (0, 13), (1, 40), (1, 32), (1, 49), (1, 33), (1, 45), (2, 10), (2, 18), (2, 16), (2, 9), (2, 46), (2, 26), (2, 20), (3, 48), (3, 36), (3, 10), (3, 46), (3, 35), (4, 19), (4, 40), (5, 25), (5, 28), (6, 39), (6, 31), (6, 14), (6, 43), (6, 24), (6, 33), (7, 13), (7, 35), (7, 24), (8, 26), (8, 48), (8, 46), (9, 27), (9, 30), (10, 42), (10, 13), (10, 48), (11, 37), (11, 36), (11, 15), (12, 22), (13, 15), (13, 16), (14, 42), (15, 32), (15, 20), (16, 49), (16, 28), (16, 19), (16, 18), (17, 42), (17, 21), (17, 43), (17, 33), (17, 45), (18, 36), (18, 44), (19, 23), (19, 43), (19, 49), (19, 28), (20, 47), (21, 34), (21, 23), (21, 40), (22, 40), (22, 33), (23, 30), (23, 27), (23, 26), (23, 33), (23, 32), (24, 44), (24, 42), (25, 43), (25, 27), (26, 31), (26, 32), (26, 36), (27, 41), (27, 45), (28, 35), (29, 35), (31, 45), (31, 36), (31, 44), (33, 48), (33, 44), (33, 42), (34, 37), (36, 39), (41, 42), (41, 48)]\n",
    ")\n",
    "nx.draw(G1, **options)\n",
    "plt.show()\n",
    "print('done')"
   ]
  },
  {
   "cell_type": "code",
   "execution_count": 25,
   "metadata": {},
   "outputs": [
    {
     "name": "stdout",
     "output_type": "stream",
     "text": [
      "[0, 1, 2, 3, 4, 5, 6, 7, 8, 9, 10, 11, 12, 13, 14, 15, 16, 17, 18, 19, 20, 21, 22, 23, 24, 25, 26, 27, 28, 29, 30, 31, 32, 33, 34, 35, 36, 37, 38, 39, 40, 41, 42, 43, 44, 45, 46, 47, 48, 49]\n",
      "[(0, 41), (0, 44), (0, 49), (0, 37), (0, 31), (0, 13), (1, 40), (1, 32), (1, 49), (1, 33), (1, 45), (2, 10), (2, 18), (2, 16), (2, 9), (2, 46), (2, 26), (2, 20), (3, 48), (3, 36), (3, 10), (3, 46), (3, 35), (4, 19), (4, 40), (5, 25), (5, 28), (6, 39), (6, 31), (6, 14), (6, 43), (6, 24), (6, 33), (7, 13), (7, 35), (7, 24), (8, 26), (8, 48), (8, 46), (9, 27), (9, 30), (10, 42), (10, 13), (10, 48), (11, 37), (11, 36), (11, 15), (12, 22), (13, 15), (13, 16), (14, 42), (15, 32), (15, 20), (16, 49), (16, 28), (16, 19), (16, 18), (17, 42), (17, 21), (17, 43), (17, 33), (17, 45), (18, 36), (18, 44), (19, 23), (19, 43), (19, 49), (19, 28), (20, 47), (21, 34), (21, 23), (21, 40), (22, 40), (22, 33), (23, 30), (23, 27), (23, 26), (23, 33), (23, 32), (24, 44), (24, 42), (25, 43), (25, 27), (26, 31), (26, 32), (26, 36), (27, 41), (27, 45), (28, 35), (29, 35), (31, 45), (31, 36), (31, 44), (33, 48), (33, 44), (33, 42), (34, 37), (36, 39), (41, 42), (41, 48)]\n"
     ]
    }
   ],
   "source": [
    "print(G1.nodes)\n",
    "print(G1.edges)\n"
   ]
  },
  {
   "cell_type": "code",
   "execution_count": 47,
   "metadata": {},
   "outputs": [
    {
     "name": "stdout",
     "output_type": "stream",
     "text": [
      "[{0, 1, 2, 3, 4, 5, 6, 7, 8, 9, 10, 11, 12, 13, 14, 15, 16, 17, 18, 19, 20, 21, 22, 23, 24, 25, 26, 27, 28, 29, 30, 31, 32, 33, 34, 35, 36, 37, 39, 40, 41, 42, 43, 44, 45, 46, 47, 48, 49}, {38}]\n",
      "<class 'list'>\n"
     ]
    },
    {
     "data": {
      "image/png": "[encoded data removed]",
      "text/plain": [
       "<Figure size 432x288 with 1 Axes>"
      ]
     },
     "metadata": {},
     "output_type": "display_data"
    }
   ],
   "source": [
    "\n",
    "\n",
    "graphs = list(nx.connected_components(G1))\n",
    "print(graphs)\n",
    "print(type(graphs))\n",
    "# Generate a subgraph of G1\n",
    "sub_node = n // 5\n",
    "\n",
    "sub_edges = [0, 2, 3, 4, 7, 9, 10, 11, 13, 15, 16, 17, 18, 19, 20, 21, 23]\n",
    "G2 = G1.subgraph(sub_edges)\n",
    "\n",
    "\n",
    "# Get random node\n",
    "nx.draw(G2, **options)\n",
    "plt.show()"
   ]
  },
  {
   "cell_type": "code",
   "execution_count": 48,
   "metadata": {},
   "outputs": [
    {
     "data": {
      "text/plain": [
       "False"
      ]
     },
     "execution_count": 48,
     "metadata": {},
     "output_type": "execute_result"
    }
   ],
   "source": [
    "def check_exact_match(query, target):\n",
    "    # Compare nodes and edges\n",
    "    return nx.is_isomorphic(query, target)\n",
    "\n"
   ]
  },
  {
   "cell_type": "code",
   "execution_count": 60,
   "metadata": {},
   "outputs": [
    {
     "data": {
      "image/png": "[encoded data removed]",
      "text/plain": [
       "<Figure size 432x288 with 1 Axes>"
      ]
     },
     "metadata": {},
     "output_type": "display_data"
    }
   ],
   "source": [
    "# This is a simple demo\n",
    "G_simple = nx.Graph()\n",
    "nx.add_path(G_simple, [1,2,3,4,5])\n",
    "G_simple.add_edge(2,4)\n",
    "G_simple.add_edge(3,5)\n",
    "nx.draw(G_simple, **options)\n",
    "plt.show()"
   ]
  },
  {
   "cell_type": "code",
   "execution_count": 64,
   "metadata": {},
   "outputs": [
    {
     "data": {
      "image/png": "[encoded data removed]",
      "text/plain": [
       "<Figure size 432x288 with 1 Axes>"
      ]
     },
     "metadata": {},
     "output_type": "display_data"
    }
   ],
   "source": [
    "G_simple_sub = G_simple.subgraph([2,3,4])\n",
    "nx.draw(G_simple_sub, **options)\n",
    "plt.show()"
   ]
  },
  {
   "cell_type": "code",
   "execution_count": 110,
   "metadata": {},
   "outputs": [
    {
     "name": "stdout",
     "output_type": "stream",
     "text": [
      "[(1, 2, 3), (1, 2, 4), (1, 2, 5), (1, 3, 4), (1, 3, 5), (1, 4, 5), (2, 3, 4), (2, 3, 5), (2, 4, 5), (3, 4, 5)]\n"
     ]
    },
    {
     "data": {
      "text/plain": [
       "[<networkx.classes.graph.Graph at 0x7fb4c0f89eb0>,\n",
       " <networkx.classes.graph.Graph at 0x7fb4c0f89c40>,\n",
       " <networkx.classes.graph.Graph at 0x7fb4c0f89190>,\n",
       " <networkx.classes.graph.Graph at 0x7fb4c0f89910>,\n",
       " <networkx.classes.graph.Graph at 0x7fb4c0f899a0>,\n",
       " <networkx.classes.graph.Graph at 0x7fb4c0f89520>,\n",
       " <networkx.classes.graph.Graph at 0x7fb4c22425e0>,\n",
       " <networkx.classes.graph.Graph at 0x7fb4c2242430>,\n",
       " <networkx.classes.graph.Graph at 0x7fb4c2242220>,\n",
       " <networkx.classes.graph.Graph at 0x7fb4c2242df0>]"
      ]
     },
     "execution_count": 110,
     "metadata": {},
     "output_type": "execute_result"
    }
   ],
   "source": [
    "# Generate all the possibile subgraphs\n",
    "# Brute Force\n",
    "from itertools import combinations\n",
    "\n",
    "def generate_all_subgraphs(n_nodes, target):\n",
    "    target_nodes_list = target.nodes\n",
    "    \n",
    "    combs = list(combinations(target_nodes_list, n_nodes))\n",
    "    print(combs)\n",
    "    \n",
    "    res = []\n",
    "    for i in range(len(combs)):\n",
    "        res.append(target.subgraph(list(combs[i])))\n",
    "    return res\n",
    "\n",
    "generate_all_subgraphs(3, G_simple)\n"
   ]
  },
  {
   "cell_type": "code",
   "execution_count": 113,
   "metadata": {},
   "outputs": [],
   "source": [
    "n_nodes = len(G_simple_sub.nodes)\n",
    "\n",
    "\n",
    "def check_subgraph_matching(query, target):\n",
    "    candidates = generate_all_subgraphs(n_nodes, target)\n",
    "    for graph in candidates:\n",
    "        if check_exact_match(query, graph):\n",
    "            print('found')\n",
    "            return True\n",
    "    return False\n",
    "    \n",
    "    "
   ]
  },
  {
   "cell_type": "code",
   "execution_count": 114,
   "metadata": {},
   "outputs": [
    {
     "name": "stdout",
     "output_type": "stream",
     "text": [
      "[(1, 2, 3), (1, 2, 4), (1, 2, 5), (1, 3, 4), (1, 3, 5), (1, 4, 5), (2, 3, 4), (2, 3, 5), (2, 4, 5), (3, 4, 5)]\n",
      "found\n"
     ]
    },
    {
     "data": {
      "text/plain": [
       "True"
      ]
     },
     "execution_count": 114,
     "metadata": {},
     "output_type": "execute_result"
    }
   ],
   "source": [
    "check_subgraph_matching(G_simple_sub, G_simple)"
   ]
  },
  {
   "cell_type": "code",
   "execution_count": 1,
   "metadata": {},
   "outputs": [
    {
     "ename": "NameError",
     "evalue": "name 'check_subgraph_matching' is not defined",
     "output_type": "error",
     "traceback": [
      "\u001b[0;31m---------------------------------------------------------------------\u001b[0m",
      "\u001b[0;31mNameError\u001b[0m                           Traceback (most recent call last)",
      "\u001b[0;32m<ipython-input-1-e43219c96e57>\u001b[0m in \u001b[0;36m<module>\u001b[0;34m\u001b[0m\n\u001b[0;32m----> 1\u001b[0;31m \u001b[0mcheck_subgraph_matching\u001b[0m\u001b[0;34m(\u001b[0m\u001b[0mG2\u001b[0m\u001b[0;34m,\u001b[0m \u001b[0mG1\u001b[0m\u001b[0;34m)\u001b[0m\u001b[0;34m\u001b[0m\u001b[0;34m\u001b[0m\u001b[0m\n\u001b[0m",
      "\u001b[0;31mNameError\u001b[0m: name 'check_subgraph_matching' is not defined"
     ]
    }
   ],
   "source": [
    "check_subgraph_matching(G2, G1)"
   ]
  },
  {
   "cell_type": "code",
   "execution_count": null,
   "metadata": {},
   "outputs": [],
   "source": [
    "# What did GIN Do?\n",
    "# Implement CFL & GraphQL"
   ]
  }
 ],
 "metadata": {
  "kernelspec": {
   "display_name": "Python 3",
   "language": "python",
   "name": "python3"
  },
  "language_info": {
   "codemirror_mode": {
    "name": "ipython",
    "version": 3
   },
   "file_extension": ".py",
   "mimetype": "text/x-python",
   "name": "python",
   "nbconvert_exporter": "python",
   "pygments_lexer": "ipython3",
   "version": "3.8.5"
  }
 },
 "nbformat": 4,
 "nbformat_minor": 4
}
